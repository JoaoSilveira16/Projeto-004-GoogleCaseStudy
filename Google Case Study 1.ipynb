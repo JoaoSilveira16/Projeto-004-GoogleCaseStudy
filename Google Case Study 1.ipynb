{
 "cells": [
  {
   "cell_type": "markdown",
   "metadata": {},
   "source": [
    "# Google Case Study : How does a bike-share navigate speedy success?"
   ]
  },
  {
   "cell_type": "markdown",
   "metadata": {},
   "source": [
    "### Para responder as perguntas de negócios seguiremos os passos de um procedimento de análise de dados:\n",
    "### <span style=\"color:blue\">**Ask**</span>\n",
    "### <span style=\"color:green\">**Prepare**</span>\n",
    "### <span style=\"color:yellow\">**Process**</span>\n",
    "### <span style=\"color:orange\">**Analyze**</span>\n",
    "### <span style=\"color:purple\">**Share**</span>\n",
    "### <span style=\"color:red\">**Act**</span>\n",
    "---"
   ]
  },
  {
   "cell_type": "markdown",
   "metadata": {},
   "source": [
    "## <span style=\"color:blue\">**ASK – Definição do Problema e Objetivos**</span>\n",
    "## 1. Qual é o problema que estamos tentando resolver?\n",
    "\n",
    "A empresa **Cyclistic** deseja **aumentar o número de assinaturas anuais** do seu serviço de compartilhamento de bicicletas. Embora a flexibilidade de planos (passe único, passe diário e assinatura anual) ajude a atrair diversos tipos de usuários, **os membros anuais geram maior lucratividade** para o negócio.\n",
    "\n",
    "Atualmente, uma parcela significativa dos usuários são **\"casual riders\"** – ou seja, pessoas que utilizam o serviço com passes diários ou únicos. O time de marketing da Cyclistic acredita que **há uma oportunidade real de converter esses usuários casuais em assinantes anuais**.\n",
    "\n",
    "Portanto, é necessário **entender como os comportamentos de uso diferem entre usuários casuais e membros anuais**, a fim de embasar estratégias de marketing mais direcionadas e eficazes.\n",
    "\n",
    "---\n",
    "\n",
    "## 2. Qual é a tarefa de negócio (Business Task)?\n",
    "\n",
    "A tarefa de negócio atribuída a este projeto é:\n",
    "\n",
    "- **Analisar os dados históricos de viagens da Cyclistic para entender como membros anuais e usuários casuais utilizam o sistema de bicicletas de forma diferente.**  \n",
    "- A partir dessa análise, gerar insights acionáveis que possam servir de base para estratégias de marketing voltadas à conversão de **usuários casuais** em **membros anuais**.\n",
    "\n",
    "---\n",
    "\n",
    "## 3. Quem são os stakeholders?\n",
    "\n",
    "- **Lily Moreno** – Diretora de marketing da Cyclistic, responsável pelo planejamento das campanhas. É quem lidera a iniciativa de conversão dos usuários casuais.\n",
    "- **Equipe de Análise de Marketing da Cyclistic** – Responsável por coletar, tratar e analisar os dados que subsidiarão as decisões estratégicas.\n",
    "- **Equipe Executiva da Cyclistic** – Tomadores de decisão finais que irão avaliar os dados e aprovar (ou não) as recomendações de marketing.\n",
    "- **Usuários finais (casuais e membros)** – O público-alvo da campanha futura. Seus padrões de comportamento serão analisados para guiar as ações.\n",
    "\n",
    "---\n",
    "\n",
    "## 4. Moreno, diretora de marketing da empresa, nos deu a responsabilidade de responder as perguntas:  \n",
    "### - Como os Membros Anuais e os Casuais se diferenciam?  \n",
    "### - Por que um usuário Casual compraria o plano Anual (annual membership)?  \n",
    "### - Como que a empresa pode influenciar os usuários Casuais a se tornarem Membros através das Mídias Digitais?  \n",
    "\n",
    "É preciso produzir um relatório com os itens a seguir:\n",
    "1. Uma declaração clara da tarefa de negócios\n",
    "2. Uma descrição de todas as fontes de dados utilizadas\n",
    "3. Documentação de qualquer limpeza ou manipulação dos dados\n",
    "4. Um resumo da sua análise\n",
    "5. Visualizações de apoio e principais descobertas\n",
    "6. Suas três principais recomendações com base na análise\n",
    "\n",
    "---"
   ]
  },
  {
   "cell_type": "markdown",
   "metadata": {},
   "source": [
    "## <span style=\"color:green\">**PREPARE – Um primeiro olhar nos Dados**</span>\n",
    "\n",
    "Para a análise do problema, utilizaremos o arquivo 202404-divvy-tripdata.csv\n",
    "\n",
    "Os dados estão em formato CSV.\n",
    "Eu abri o arquivo CSV no Excel para ter uma primeira análise do que vamos abordar.\n",
    "\n",
    "O CSV possui:\n",
    "- ID da Corrida  \n",
    "- Tipo de bicicleta  \n",
    "- Data de início e término da corrida com o Horário  \n",
    "- ID da estacão  de saída e de chegada\n",
    "- Nome da estacão de saída e de chegada\n",
    "- Latidude de início e término  \n",
    "- Longitude de início e término  \n",
    "- Tipo de Membro (casual ou anual)  \n",
    "\n",
    "---"
   ]
  },
  {
   "cell_type": "markdown",
   "metadata": {},
   "source": [
    "## <span style=\"color:yellow\">**PROCESS - Ferramentas e Limpeza**</span>\n",
    "\n",
    "Ferramentas utilizadas na análise:\n",
    "- Jupyter Notebook (Linguagem R)\n",
    "- Excel\n",
    "- PostgreSQL (DBeaver)\n",
    "\n",
    "---\n",
    "\n",
    "### Preparacão e Limpeza\n",
    "\n",
    "1) Primeiro, abrimos os arquivos CSV no Excel e, na aba Página Inicial, selecionamos a ferramenta de 'Localizar e Selecionar' e, em seguida, selecionamos a ferramenta 'substituir'.  \n",
    "Como parâmetro, colocamos aspas duplas (\") e deixamos o campo 'substituir por' = vazio.  \n",
    "**Objetivo**: Retirar as aspas duplas (\") para evitar problemas no momento de importar no DBeaver (PostgreSQL).\n",
    "OBS: Esse processo foi feito nos 12 arquivos CSV, cada arquivo representando um mês, de abril de 2024 até marco de 2025.  \n",
    "\n",
    "2) Para importar esses arquivos, nas configuracões de importacão do DBeaver, aumentamos o 'Tamanho mínimo de Coluna' de 50 para 150 e o tipo de varchar[50] para varchar[150].  \n",
    "**Objetivo**: Evitar erros de limite de caracteres.  \n",
    "  \n",
    "3) Após importar todos os dados em tabelas no DBeaver, realizamos um UNION para unir todas as 12 tabelas (Ponto 1 no código SQL CleanData).  \n",
    "CREATE TABLE all_rides as\n",
    "SELECT * FROM \"202404_divvy_tripdata\"  \n",
    "UNION ALL  \n",
    "SELECT * FROM \"202405_divvy_tripdata\"  \n",
    "UNION ALL  \n",
    ".  \n",
    "..  \n",
    "...  \n",
    "  \n",
    "4) Em seguida, foi feita uma verificacão/limpeza de linhas vazias ou nulas (Ponto 2 no código SQL CleanData).  \n",
    "  \n",
    "5) Eliminacão de linhas com colunas ended_at < started_at, preparando os dados para criar uma coluna chamada ride_length (Ponto 3 no código SQL CleanData).  \n",
    "  \n",
    "6) Criacão da coluna ride_length que mostra a duracão total das corridas realizadas (Ponto 4 no código SQL CleanData).  \n",
    "  \n",
    "7) Verificacão nos tempos das corridas. Corridas menores que 1 min foram retiradas, pois representam possiveis inconsistências (corridas canceladas, testes, erros) (Ponto 5 no código SQL CleanData).  \n",
    "  \n",
    "8) Criacão de uma coluna chamada day_of_week para analisar as preferências dos dias da semana pelos usuários (Ponto 6 no código SQL CleanData).  \n",
    "\n",
    "--- \n",
    "\n",
    "Para a exclusão das corridas que comecaram e terminaram nas mesmas coordenadas, partimos desse pressuposto:  \n",
    "\n",
    "**Caso**--------------------------------------------------**É inconsistente?**  \n",
    "Mesmo local, tempo alto (ex: 15 min)---------------Não — usuário pode ter só dado uma volta  \n",
    "Mesmo local, tempo baixo (ex: 1min ou menos)------------------Provavelmente sim — pode ser erro ou teste  \n",
    "Local diferente, tempo baixo------------------------Depende — mas se < 120s, pode ser suspeito  \n",
    "Local diferente, tempo ok---------------------------Normal  \n",
    "  \n",
    "OBS: Existem algumas corridas com duracao maior que 4h que, possivelmente, são inconsistências pondendo ser um dos pontos a seguir:\n",
    "- O usuário esqueceu de encerrar a corrida;  \n",
    "- A estação teve problemas técnicos;  \n",
    "- O dado de ended_at, talvez, tenha sido registrado incorretamente;   \n",
    "  \n",
    "Para a maioria dos dados de bike sharing (como os do CicloTrip, Divvy, Bike Rio, etc), os passeios costumam durar entre:  \n",
    "- 5 a 60 minutos (para usuários comuns)  \n",
    "- Até 2 horas (em alguns casos)  \n",
    "- Muito raramente mais de 4 horas  \n",
    "\n",
    "Contudo, optamos por manter os dados com ride_length até 4 horas de duracão e **filtrá-los** em algumas consultas.  \n",
    "- **Para vias de observacão, temos 4.066.644 corridas de até 4h de duracão (números mais realistas) e apenas 6.954 com 4h ou mais (cerca de 0,17%).**  \n",
    "- **Como é menos de 1% do total, filtrar esses dados acima de 4h tende a ser seguro e pouco impactante.**  \n",
    "*Esses casos foram considerados outliers que poderiam impactar negativamente na análise estatística, especialmente nas médias e distribuições, sem comprometer a representatividade dos dados.*"
   ]
  },
  {
   "cell_type": "markdown",
   "metadata": {},
   "source": [
    "## <span style=\"color:orange\">**ANALYZE - Estudando os Dados.**</span>\n",
    "\n",
    "Foram criadas Média, Máximo e Moda de algumas colunas para uma melhor análise......................\n"
   ]
  },
  {
   "cell_type": "code",
   "execution_count": 1,
   "metadata": {
    "vscode": {
     "languageId": "r"
    }
   },
   "outputs": [
    {
     "name": "stderr",
     "output_type": "stream",
     "text": [
      "Instalando pacote em 'C:/Users/JoTa/AppData/Local/R/win-library/4.4'\n",
      "(como 'lib' não foi especificado)\n",
      "\n"
     ]
    },
    {
     "name": "stdout",
     "output_type": "stream",
     "text": [
      "pacote 'DBI' desempacotado com sucesso e somas MD5 verificadas\n",
      "\n",
      "Os pacotes binários baixados estão em\n",
      "\tC:\\Users\\JoTa\\AppData\\Local\\Temp\\RtmpwJ3GpA\\downloaded_packages\n"
     ]
    },
    {
     "name": "stderr",
     "output_type": "stream",
     "text": [
      "Instalando pacote em 'C:/Users/JoTa/AppData/Local/R/win-library/4.4'\n",
      "(como 'lib' não foi especificado)\n",
      "\n"
     ]
    },
    {
     "name": "stdout",
     "output_type": "stream",
     "text": [
      "pacote 'RPostgres' desempacotado com sucesso e somas MD5 verificadas\n"
     ]
    },
    {
     "name": "stderr",
     "output_type": "stream",
     "text": [
      "Warning message:\n",
      "\"não foi possível remover a instalação prévia do pacote 'RPostgres'\"\n",
      "Warning message in file.copy(savedcopy, lib, recursive = TRUE):\n",
      "\"problem copying C:\\Users\\JoTa\\AppData\\Local\\R\\win-library\\4.4\\00LOCK\\RPostgres\\libs\\x64\\RPostgres.dll to C:\\Users\\JoTa\\AppData\\Local\\R\\win-library\\4.4\\RPostgres\\libs\\x64\\RPostgres.dll: Permission denied\"\n",
      "Warning message:\n",
      "\"'RPostgres' restaurado\"\n"
     ]
    },
    {
     "name": "stdout",
     "output_type": "stream",
     "text": [
      "\n",
      "Os pacotes binários baixados estão em\n",
      "\tC:\\Users\\JoTa\\AppData\\Local\\Temp\\RtmpwJ3GpA\\downloaded_packages\n"
     ]
    }
   ],
   "source": [
    "# Instalando pacotes necessários:\n",
    "install.packages(\"DBI\")\n",
    "install.packages(\"RPostgres\")"
   ]
  },
  {
   "cell_type": "code",
   "execution_count": 2,
   "metadata": {
    "vscode": {
     "languageId": "r"
    }
   },
   "outputs": [
    {
     "name": "stderr",
     "output_type": "stream",
     "text": [
      "Warning message:\n",
      "\"pacote 'DBI' foi compilado no R versão 4.4.3\"\n",
      "Warning message:\n",
      "\"pacote 'RPostgres' foi compilado no R versão 4.4.3\"\n"
     ]
    }
   ],
   "source": [
    "library(DBI)\n",
    "library(RPostgres)\n"
   ]
  },
  {
   "cell_type": "code",
   "execution_count": 3,
   "metadata": {
    "vscode": {
     "languageId": "r"
    }
   },
   "outputs": [],
   "source": [
    "# Puxando variáveis do .Renviron\n",
    "# É aqui que você deve colocar as variáveis de ambiente para conexão com o banco de dados.\n",
    "host <- Sys.getenv(\"PG_HOST\")\n",
    "port <- Sys.getenv(\"PG_PORT\")\n",
    "user <- Sys.getenv(\"PG_USER\")\n",
    "password <- Sys.getenv(\"PG_PASSWORD\")\n",
    "dbname <- Sys.getenv(\"PG_DB\")"
   ]
  },
  {
   "cell_type": "code",
   "execution_count": 4,
   "metadata": {
    "vscode": {
     "languageId": "r"
    }
   },
   "outputs": [],
   "source": [
    "# Conectando\n",
    "con <- dbConnect(\n",
    "  RPostgres::Postgres(),\n",
    "  dbname = dbname,\n",
    "  host = host,\n",
    "  port = port,\n",
    "  user = user,\n",
    "  password = password\n",
    ")"
   ]
  },
  {
   "cell_type": "markdown",
   "metadata": {},
   "source": [
    "---\n",
    "# Após realizar a conexao"
   ]
  },
  {
   "cell_type": "code",
   "execution_count": 5,
   "metadata": {
    "vscode": {
     "languageId": "r"
    }
   },
   "outputs": [
    {
     "data": {
      "text/html": [
       "<table class=\"dataframe\">\n",
       "<caption>A data.frame: 6 × 15</caption>\n",
       "<thead>\n",
       "\t<tr><th></th><th scope=col>ride_id</th><th scope=col>rideable_type</th><th scope=col>started_at</th><th scope=col>ended_at</th><th scope=col>start_station_name</th><th scope=col>start_station_id</th><th scope=col>end_station_name</th><th scope=col>end_station_id</th><th scope=col>start_lat</th><th scope=col>start_lng</th><th scope=col>end_lat</th><th scope=col>end_lng</th><th scope=col>member_casual</th><th scope=col>ride_length</th><th scope=col>day_of_week</th></tr>\n",
       "\t<tr><th></th><th scope=col>&lt;chr&gt;</th><th scope=col>&lt;chr&gt;</th><th scope=col>&lt;dttm&gt;</th><th scope=col>&lt;dttm&gt;</th><th scope=col>&lt;chr&gt;</th><th scope=col>&lt;chr&gt;</th><th scope=col>&lt;chr&gt;</th><th scope=col>&lt;chr&gt;</th><th scope=col>&lt;dbl&gt;</th><th scope=col>&lt;dbl&gt;</th><th scope=col>&lt;dbl&gt;</th><th scope=col>&lt;dbl&gt;</th><th scope=col>&lt;chr&gt;</th><th scope=col>&lt;chr&gt;</th><th scope=col>&lt;chr&gt;</th></tr>\n",
       "</thead>\n",
       "<tbody>\n",
       "\t<tr><th scope=row>1</th><td>322ED1A33EAD23C4</td><td>electric_bike</td><td>2024-06-23 10:49:43</td><td>2024-06-23 11:02:27</td><td><span style=white-space:pre-wrap>Wells St &amp; Elm St                  </span></td><td>KA1504000135</td><td>Southport Ave &amp; Clybourn Ave</td><td>TA1309000030</td><td>41.90326</td><td>-87.63486</td><td>41.92077</td><td>-87.66371</td><td>member</td><td>00:12:43.84 </td><td><span style=white-space:pre-wrap>Sunday   </span></td></tr>\n",
       "\t<tr><th scope=row>2</th><td>CB358067A835C900</td><td>classic_bike </td><td>2024-06-12 16:20:44</td><td>2024-06-12 16:28:03</td><td><span style=white-space:pre-wrap>Dearborn St &amp; Monroe St            </span></td><td>TA1305000006</td><td><span style=white-space:pre-wrap>State St &amp; Kinzie St        </span></td><td><span style=white-space:pre-wrap>13050       </span></td><td>41.88132</td><td>-87.62952</td><td>41.88937</td><td>-87.62708</td><td>member</td><td>00:07:19.356</td><td>Wednesday</td></tr>\n",
       "\t<tr><th scope=row>3</th><td>9DEB17F6A13B2160</td><td>electric_bike</td><td>2024-06-20 17:56:00</td><td>2024-06-20 18:17:07</td><td><span style=white-space:pre-wrap>Wells St &amp; Elm St                  </span></td><td>KA1504000135</td><td>Racine Ave &amp; Washington Blvd</td><td><span style=white-space:pre-wrap>654         </span></td><td>41.90311</td><td>-87.63462</td><td>41.88307</td><td>-87.65695</td><td>casual</td><td>00:21:06.986</td><td>Thursday </td></tr>\n",
       "\t<tr><th scope=row>4</th><td>8299693EA273A24F</td><td>classic_bike </td><td>2024-06-08 07:42:34</td><td>2024-06-08 08:02:21</td><td><span style=white-space:pre-wrap>Lakefront Trail &amp; Bryn Mawr Ave    </span></td><td><span style=white-space:pre-wrap>15576       </span></td><td><span style=white-space:pre-wrap>Clarendon Ave &amp; Gordon Ter  </span></td><td><span style=white-space:pre-wrap>13379       </span></td><td>41.98404</td><td>-87.65228</td><td>41.95787</td><td>-87.64951</td><td>casual</td><td>00:19:46.614</td><td>Saturday </td></tr>\n",
       "\t<tr><th scope=row>5</th><td>4B8EB5D51DBC50EF</td><td>classic_bike </td><td>2024-06-13 15:36:43</td><td>2024-06-13 16:00:16</td><td><span style=white-space:pre-wrap>Dearborn St &amp; Monroe St            </span></td><td>TA1305000006</td><td>Southport Ave &amp; Clybourn Ave</td><td>TA1309000030</td><td>41.88132</td><td>-87.62952</td><td>41.92077</td><td>-87.66371</td><td>member</td><td>00:23:32.386</td><td>Thursday </td></tr>\n",
       "\t<tr><th scope=row>6</th><td>20D82B8956DCA88B</td><td>electric_bike</td><td>2024-06-13 14:40:02</td><td>2024-06-13 15:08:33</td><td>Orleans St &amp; Merchandise Mart Plaza</td><td>TA1305000022</td><td><span style=white-space:pre-wrap>State St &amp; Kinzie St        </span></td><td><span style=white-space:pre-wrap>13050       </span></td><td>41.88781</td><td>-87.63697</td><td>41.88937</td><td>-87.62708</td><td>casual</td><td>00:28:31.031</td><td>Thursday </td></tr>\n",
       "</tbody>\n",
       "</table>\n"
      ],
      "text/latex": [
       "A data.frame: 6 × 15\n",
       "\\begin{tabular}{r|lllllllllllllll}\n",
       "  & ride\\_id & rideable\\_type & started\\_at & ended\\_at & start\\_station\\_name & start\\_station\\_id & end\\_station\\_name & end\\_station\\_id & start\\_lat & start\\_lng & end\\_lat & end\\_lng & member\\_casual & ride\\_length & day\\_of\\_week\\\\\n",
       "  & <chr> & <chr> & <dttm> & <dttm> & <chr> & <chr> & <chr> & <chr> & <dbl> & <dbl> & <dbl> & <dbl> & <chr> & <chr> & <chr>\\\\\n",
       "\\hline\n",
       "\t1 & 322ED1A33EAD23C4 & electric\\_bike & 2024-06-23 10:49:43 & 2024-06-23 11:02:27 & Wells St \\& Elm St                   & KA1504000135 & Southport Ave \\& Clybourn Ave & TA1309000030 & 41.90326 & -87.63486 & 41.92077 & -87.66371 & member & 00:12:43.84  & Sunday   \\\\\n",
       "\t2 & CB358067A835C900 & classic\\_bike  & 2024-06-12 16:20:44 & 2024-06-12 16:28:03 & Dearborn St \\& Monroe St             & TA1305000006 & State St \\& Kinzie St         & 13050        & 41.88132 & -87.62952 & 41.88937 & -87.62708 & member & 00:07:19.356 & Wednesday\\\\\n",
       "\t3 & 9DEB17F6A13B2160 & electric\\_bike & 2024-06-20 17:56:00 & 2024-06-20 18:17:07 & Wells St \\& Elm St                   & KA1504000135 & Racine Ave \\& Washington Blvd & 654          & 41.90311 & -87.63462 & 41.88307 & -87.65695 & casual & 00:21:06.986 & Thursday \\\\\n",
       "\t4 & 8299693EA273A24F & classic\\_bike  & 2024-06-08 07:42:34 & 2024-06-08 08:02:21 & Lakefront Trail \\& Bryn Mawr Ave     & 15576        & Clarendon Ave \\& Gordon Ter   & 13379        & 41.98404 & -87.65228 & 41.95787 & -87.64951 & casual & 00:19:46.614 & Saturday \\\\\n",
       "\t5 & 4B8EB5D51DBC50EF & classic\\_bike  & 2024-06-13 15:36:43 & 2024-06-13 16:00:16 & Dearborn St \\& Monroe St             & TA1305000006 & Southport Ave \\& Clybourn Ave & TA1309000030 & 41.88132 & -87.62952 & 41.92077 & -87.66371 & member & 00:23:32.386 & Thursday \\\\\n",
       "\t6 & 20D82B8956DCA88B & electric\\_bike & 2024-06-13 14:40:02 & 2024-06-13 15:08:33 & Orleans St \\& Merchandise Mart Plaza & TA1305000022 & State St \\& Kinzie St         & 13050        & 41.88781 & -87.63697 & 41.88937 & -87.62708 & casual & 00:28:31.031 & Thursday \\\\\n",
       "\\end{tabular}\n"
      ],
      "text/markdown": [
       "\n",
       "A data.frame: 6 × 15\n",
       "\n",
       "| <!--/--> | ride_id &lt;chr&gt; | rideable_type &lt;chr&gt; | started_at &lt;dttm&gt; | ended_at &lt;dttm&gt; | start_station_name &lt;chr&gt; | start_station_id &lt;chr&gt; | end_station_name &lt;chr&gt; | end_station_id &lt;chr&gt; | start_lat &lt;dbl&gt; | start_lng &lt;dbl&gt; | end_lat &lt;dbl&gt; | end_lng &lt;dbl&gt; | member_casual &lt;chr&gt; | ride_length &lt;chr&gt; | day_of_week &lt;chr&gt; |\n",
       "|---|---|---|---|---|---|---|---|---|---|---|---|---|---|---|---|\n",
       "| 1 | 322ED1A33EAD23C4 | electric_bike | 2024-06-23 10:49:43 | 2024-06-23 11:02:27 | Wells St &amp; Elm St                   | KA1504000135 | Southport Ave &amp; Clybourn Ave | TA1309000030 | 41.90326 | -87.63486 | 41.92077 | -87.66371 | member | 00:12:43.84  | Sunday    |\n",
       "| 2 | CB358067A835C900 | classic_bike  | 2024-06-12 16:20:44 | 2024-06-12 16:28:03 | Dearborn St &amp; Monroe St             | TA1305000006 | State St &amp; Kinzie St         | 13050        | 41.88132 | -87.62952 | 41.88937 | -87.62708 | member | 00:07:19.356 | Wednesday |\n",
       "| 3 | 9DEB17F6A13B2160 | electric_bike | 2024-06-20 17:56:00 | 2024-06-20 18:17:07 | Wells St &amp; Elm St                   | KA1504000135 | Racine Ave &amp; Washington Blvd | 654          | 41.90311 | -87.63462 | 41.88307 | -87.65695 | casual | 00:21:06.986 | Thursday  |\n",
       "| 4 | 8299693EA273A24F | classic_bike  | 2024-06-08 07:42:34 | 2024-06-08 08:02:21 | Lakefront Trail &amp; Bryn Mawr Ave     | 15576        | Clarendon Ave &amp; Gordon Ter   | 13379        | 41.98404 | -87.65228 | 41.95787 | -87.64951 | casual | 00:19:46.614 | Saturday  |\n",
       "| 5 | 4B8EB5D51DBC50EF | classic_bike  | 2024-06-13 15:36:43 | 2024-06-13 16:00:16 | Dearborn St &amp; Monroe St             | TA1305000006 | Southport Ave &amp; Clybourn Ave | TA1309000030 | 41.88132 | -87.62952 | 41.92077 | -87.66371 | member | 00:23:32.386 | Thursday  |\n",
       "| 6 | 20D82B8956DCA88B | electric_bike | 2024-06-13 14:40:02 | 2024-06-13 15:08:33 | Orleans St &amp; Merchandise Mart Plaza | TA1305000022 | State St &amp; Kinzie St         | 13050        | 41.88781 | -87.63697 | 41.88937 | -87.62708 | casual | 00:28:31.031 | Thursday  |\n",
       "\n"
      ],
      "text/plain": [
       "  ride_id          rideable_type started_at          ended_at           \n",
       "1 322ED1A33EAD23C4 electric_bike 2024-06-23 10:49:43 2024-06-23 11:02:27\n",
       "2 CB358067A835C900 classic_bike  2024-06-12 16:20:44 2024-06-12 16:28:03\n",
       "3 9DEB17F6A13B2160 electric_bike 2024-06-20 17:56:00 2024-06-20 18:17:07\n",
       "4 8299693EA273A24F classic_bike  2024-06-08 07:42:34 2024-06-08 08:02:21\n",
       "5 4B8EB5D51DBC50EF classic_bike  2024-06-13 15:36:43 2024-06-13 16:00:16\n",
       "6 20D82B8956DCA88B electric_bike 2024-06-13 14:40:02 2024-06-13 15:08:33\n",
       "  start_station_name                  start_station_id\n",
       "1 Wells St & Elm St                   KA1504000135    \n",
       "2 Dearborn St & Monroe St             TA1305000006    \n",
       "3 Wells St & Elm St                   KA1504000135    \n",
       "4 Lakefront Trail & Bryn Mawr Ave     15576           \n",
       "5 Dearborn St & Monroe St             TA1305000006    \n",
       "6 Orleans St & Merchandise Mart Plaza TA1305000022    \n",
       "  end_station_name             end_station_id start_lat start_lng end_lat \n",
       "1 Southport Ave & Clybourn Ave TA1309000030   41.90326  -87.63486 41.92077\n",
       "2 State St & Kinzie St         13050          41.88132  -87.62952 41.88937\n",
       "3 Racine Ave & Washington Blvd 654            41.90311  -87.63462 41.88307\n",
       "4 Clarendon Ave & Gordon Ter   13379          41.98404  -87.65228 41.95787\n",
       "5 Southport Ave & Clybourn Ave TA1309000030   41.88132  -87.62952 41.92077\n",
       "6 State St & Kinzie St         13050          41.88781  -87.63697 41.88937\n",
       "  end_lng   member_casual ride_length  day_of_week\n",
       "1 -87.66371 member        00:12:43.84  Sunday     \n",
       "2 -87.62708 member        00:07:19.356 Wednesday  \n",
       "3 -87.65695 casual        00:21:06.986 Thursday   \n",
       "4 -87.64951 casual        00:19:46.614 Saturday   \n",
       "5 -87.66371 member        00:23:32.386 Thursday   \n",
       "6 -87.62708 casual        00:28:31.031 Thursday   "
      ]
     },
     "metadata": {},
     "output_type": "display_data"
    }
   ],
   "source": [
    "df <- dbGetQuery(con, \"SELECT * FROM all_rides\")\n",
    "# Demora por volta de 50seg\n",
    "head(df)"
   ]
  },
  {
   "cell_type": "code",
   "execution_count": 6,
   "metadata": {
    "vscode": {
     "languageId": "r"
    }
   },
   "outputs": [
    {
     "name": "stdout",
     "output_type": "stream",
     "text": [
      "'data.frame':\t4066644 obs. of  15 variables:\n",
      " $ ride_id           : chr  \"322ED1A33EAD23C4\" \"CB358067A835C900\" \"9DEB17F6A13B2160\" \"8299693EA273A24F\" ...\n",
      " $ rideable_type     : chr  \"electric_bike\" \"classic_bike\" \"electric_bike\" \"classic_bike\" ...\n",
      " $ started_at        : POSIXct, format: \"2024-06-23 10:49:43\" \"2024-06-12 16:20:44\" ...\n",
      " $ ended_at          : POSIXct, format: \"2024-06-23 11:02:27\" \"2024-06-12 16:28:03\" ...\n",
      " $ start_station_name: chr  \"Wells St & Elm St\" \"Dearborn St & Monroe St\" \"Wells St & Elm St\" \"Lakefront Trail & Bryn Mawr Ave\" ...\n",
      " $ start_station_id  : chr  \"KA1504000135\" \"TA1305000006\" \"KA1504000135\" \"15576\" ...\n",
      " $ end_station_name  : chr  \"Southport Ave & Clybourn Ave\" \"State St & Kinzie St\" \"Racine Ave & Washington Blvd\" \"Clarendon Ave & Gordon Ter\" ...\n",
      " $ end_station_id    : chr  \"TA1309000030\" \"13050\" \"654\" \"13379\" ...\n",
      " $ start_lat         : num  41.9 41.9 41.9 42 41.9 ...\n",
      " $ start_lng         : num  -87.6 -87.6 -87.6 -87.7 -87.6 ...\n",
      " $ end_lat           : num  41.9 41.9 41.9 42 41.9 ...\n",
      " $ end_lng           : num  -87.7 -87.6 -87.7 -87.6 -87.7 ...\n",
      " $ member_casual     : chr  \"member\" \"member\" \"casual\" \"casual\" ...\n",
      " $ ride_length       : chr  \"00:12:43.84\" \"00:07:19.356\" \"00:21:06.986\" \"00:19:46.614\" ...\n",
      " $ day_of_week       : chr  \"Sunday\" \"Wednesday\" \"Thursday\" \"Saturday\" ...\n"
     ]
    }
   ],
   "source": [
    "# Analisando o dataframe\n",
    "str(df)"
   ]
  },
  {
   "cell_type": "markdown",
   "metadata": {},
   "source": [
    "---\n",
    "# Analisando a Duracão Média para cada tipo de usuário:"
   ]
  },
  {
   "cell_type": "code",
   "execution_count": 7,
   "metadata": {
    "vscode": {
     "languageId": "r"
    }
   },
   "outputs": [
    {
     "data": {
      "text/html": [
       "<table class=\"dataframe\">\n",
       "<caption>A data.frame: 1 × 1</caption>\n",
       "<thead>\n",
       "\t<tr><th scope=col>avg</th></tr>\n",
       "\t<tr><th scope=col>&lt;chr&gt;</th></tr>\n",
       "</thead>\n",
       "<tbody>\n",
       "\t<tr><td>00:15:40.646802</td></tr>\n",
       "</tbody>\n",
       "</table>\n"
      ],
      "text/latex": [
       "A data.frame: 1 × 1\n",
       "\\begin{tabular}{l}\n",
       " avg\\\\\n",
       " <chr>\\\\\n",
       "\\hline\n",
       "\t 00:15:40.646802\\\\\n",
       "\\end{tabular}\n"
      ],
      "text/markdown": [
       "\n",
       "A data.frame: 1 × 1\n",
       "\n",
       "| avg &lt;chr&gt; |\n",
       "|---|\n",
       "| 00:15:40.646802 |\n",
       "\n"
      ],
      "text/plain": [
       "  avg            \n",
       "1 00:15:40.646802"
      ]
     },
     "metadata": {},
     "output_type": "display_data"
    }
   ],
   "source": [
    "media_duracao_total <- dbGetQuery (con, \"select avg(ride_length) from all_rides ar where ride_length <= interval '04:00:00';\")\n",
    "\n",
    "# Media de duracao das corridas para todos os usuários\n",
    "media_duracao_total"
   ]
  },
  {
   "cell_type": "code",
   "execution_count": 8,
   "metadata": {
    "vscode": {
     "languageId": "r"
    }
   },
   "outputs": [
    {
     "data": {
      "text/html": [
       "<table class=\"dataframe\">\n",
       "<caption>A data.frame: 1 × 1</caption>\n",
       "<thead>\n",
       "\t<tr><th scope=col>avg</th></tr>\n",
       "\t<tr><th scope=col>&lt;chr&gt;</th></tr>\n",
       "</thead>\n",
       "<tbody>\n",
       "\t<tr><td>00:12:05.594915</td></tr>\n",
       "</tbody>\n",
       "</table>\n"
      ],
      "text/latex": [
       "A data.frame: 1 × 1\n",
       "\\begin{tabular}{l}\n",
       " avg\\\\\n",
       " <chr>\\\\\n",
       "\\hline\n",
       "\t 00:12:05.594915\\\\\n",
       "\\end{tabular}\n"
      ],
      "text/markdown": [
       "\n",
       "A data.frame: 1 × 1\n",
       "\n",
       "| avg &lt;chr&gt; |\n",
       "|---|\n",
       "| 00:12:05.594915 |\n",
       "\n"
      ],
      "text/plain": [
       "  avg            \n",
       "1 00:12:05.594915"
      ]
     },
     "metadata": {},
     "output_type": "display_data"
    }
   ],
   "source": [
    "media_duracao_membros <- dbGetQuery (con, \"select avg(ride_length) from all_rides ar where member_casual = 'member' and ride_length <= interval '04:00:00'\")\n",
    "\n",
    "# Media de duracao das corridas para Membros\n",
    "media_duracao_membros"
   ]
  },
  {
   "cell_type": "code",
   "execution_count": 9,
   "metadata": {
    "vscode": {
     "languageId": "r"
    }
   },
   "outputs": [
    {
     "data": {
      "text/html": [
       "<table class=\"dataframe\">\n",
       "<caption>A data.frame: 1 × 1</caption>\n",
       "<thead>\n",
       "\t<tr><th scope=col>avg</th></tr>\n",
       "\t<tr><th scope=col>&lt;chr&gt;</th></tr>\n",
       "</thead>\n",
       "<tbody>\n",
       "\t<tr><td>00:21:54.85804</td></tr>\n",
       "</tbody>\n",
       "</table>\n"
      ],
      "text/latex": [
       "A data.frame: 1 × 1\n",
       "\\begin{tabular}{l}\n",
       " avg\\\\\n",
       " <chr>\\\\\n",
       "\\hline\n",
       "\t 00:21:54.85804\\\\\n",
       "\\end{tabular}\n"
      ],
      "text/markdown": [
       "\n",
       "A data.frame: 1 × 1\n",
       "\n",
       "| avg &lt;chr&gt; |\n",
       "|---|\n",
       "| 00:21:54.85804 |\n",
       "\n"
      ],
      "text/plain": [
       "  avg           \n",
       "1 00:21:54.85804"
      ]
     },
     "metadata": {},
     "output_type": "display_data"
    }
   ],
   "source": [
    "media_duracao_casuais <- dbGetQuery (con, \"Select avg(ride_length) from all_rides ar where member_casual = 'casual' and ride_length <= interval '04:00:00'\")\n",
    "\n",
    "# Media de duracao das corridas para Casuais\n",
    "media_duracao_casuais"
   ]
  },
  {
   "cell_type": "markdown",
   "metadata": {},
   "source": [
    "---\n",
    "# Analisando a Moda dos dias da semana para cada tipo de usuário:"
   ]
  },
  {
   "cell_type": "code",
   "execution_count": 10,
   "metadata": {
    "vscode": {
     "languageId": "r"
    }
   },
   "outputs": [
    {
     "data": {
      "text/html": [
       "<table class=\"dataframe\">\n",
       "<caption>A data.frame: 7 × 2</caption>\n",
       "<thead>\n",
       "\t<tr><th scope=col>day_of_week</th><th scope=col>total</th></tr>\n",
       "\t<tr><th scope=col>&lt;chr&gt;</th><th scope=col>&lt;int64&gt;</th></tr>\n",
       "</thead>\n",
       "<tbody>\n",
       "\t<tr><td>Saturday </td><td>637601</td></tr>\n",
       "\t<tr><td>Wednesday</td><td>602641</td></tr>\n",
       "\t<tr><td>Friday   </td><td>596778</td></tr>\n",
       "\t<tr><td>Thursday </td><td>571492</td></tr>\n",
       "\t<tr><td>Monday   </td><td>562096</td></tr>\n",
       "\t<tr><td>Tuesday  </td><td>557042</td></tr>\n",
       "\t<tr><td>Sunday   </td><td>538994</td></tr>\n",
       "</tbody>\n",
       "</table>\n"
      ],
      "text/latex": [
       "A data.frame: 7 × 2\n",
       "\\begin{tabular}{ll}\n",
       " day\\_of\\_week & total\\\\\n",
       " <chr> & <int64>\\\\\n",
       "\\hline\n",
       "\t Saturday  & 637601\\\\\n",
       "\t Wednesday & 602641\\\\\n",
       "\t Friday    & 596778\\\\\n",
       "\t Thursday  & 571492\\\\\n",
       "\t Monday    & 562096\\\\\n",
       "\t Tuesday   & 557042\\\\\n",
       "\t Sunday    & 538994\\\\\n",
       "\\end{tabular}\n"
      ],
      "text/markdown": [
       "\n",
       "A data.frame: 7 × 2\n",
       "\n",
       "| day_of_week &lt;chr&gt; | total &lt;int64&gt; |\n",
       "|---|---|\n",
       "| Saturday  | 637601 |\n",
       "| Wednesday | 602641 |\n",
       "| Friday    | 596778 |\n",
       "| Thursday  | 571492 |\n",
       "| Monday    | 562096 |\n",
       "| Tuesday   | 557042 |\n",
       "| Sunday    | 538994 |\n",
       "\n"
      ],
      "text/plain": [
       "  day_of_week total \n",
       "1 Saturday    637601\n",
       "2 Wednesday   602641\n",
       "3 Friday      596778\n",
       "4 Thursday    571492\n",
       "5 Monday      562096\n",
       "6 Tuesday     557042\n",
       "7 Sunday      538994"
      ]
     },
     "metadata": {},
     "output_type": "display_data"
    }
   ],
   "source": [
    "moda_total <- dbGetQuery (con, \"SELECT day_of_week, COUNT(ride_id) AS total\n",
    "FROM all_rides\n",
    "GROUP BY day_of_week\n",
    "ORDER BY total DESC;\")\n",
    "\n",
    "moda_total"
   ]
  },
  {
   "cell_type": "code",
   "execution_count": 11,
   "metadata": {
    "vscode": {
     "languageId": "r"
    }
   },
   "outputs": [
    {
     "data": {
      "text/html": [
       "<table class=\"dataframe\">\n",
       "<caption>A data.frame: 7 × 2</caption>\n",
       "<thead>\n",
       "\t<tr><th scope=col>day_of_week</th><th scope=col>total</th></tr>\n",
       "\t<tr><th scope=col>&lt;chr&gt;</th><th scope=col>&lt;int64&gt;</th></tr>\n",
       "</thead>\n",
       "<tbody>\n",
       "\t<tr><td>Wednesday</td><td>421412</td></tr>\n",
       "\t<tr><td>Tuesday  </td><td>400453</td></tr>\n",
       "\t<tr><td>Thursday </td><td>393840</td></tr>\n",
       "\t<tr><td>Monday   </td><td>385554</td></tr>\n",
       "\t<tr><td>Friday   </td><td>371538</td></tr>\n",
       "\t<tr><td>Saturday </td><td>324284</td></tr>\n",
       "\t<tr><td>Sunday   </td><td>282591</td></tr>\n",
       "</tbody>\n",
       "</table>\n"
      ],
      "text/latex": [
       "A data.frame: 7 × 2\n",
       "\\begin{tabular}{ll}\n",
       " day\\_of\\_week & total\\\\\n",
       " <chr> & <int64>\\\\\n",
       "\\hline\n",
       "\t Wednesday & 421412\\\\\n",
       "\t Tuesday   & 400453\\\\\n",
       "\t Thursday  & 393840\\\\\n",
       "\t Monday    & 385554\\\\\n",
       "\t Friday    & 371538\\\\\n",
       "\t Saturday  & 324284\\\\\n",
       "\t Sunday    & 282591\\\\\n",
       "\\end{tabular}\n"
      ],
      "text/markdown": [
       "\n",
       "A data.frame: 7 × 2\n",
       "\n",
       "| day_of_week &lt;chr&gt; | total &lt;int64&gt; |\n",
       "|---|---|\n",
       "| Wednesday | 421412 |\n",
       "| Tuesday   | 400453 |\n",
       "| Thursday  | 393840 |\n",
       "| Monday    | 385554 |\n",
       "| Friday    | 371538 |\n",
       "| Saturday  | 324284 |\n",
       "| Sunday    | 282591 |\n",
       "\n"
      ],
      "text/plain": [
       "  day_of_week total \n",
       "1 Wednesday   421412\n",
       "2 Tuesday     400453\n",
       "3 Thursday    393840\n",
       "4 Monday      385554\n",
       "5 Friday      371538\n",
       "6 Saturday    324284\n",
       "7 Sunday      282591"
      ]
     },
     "metadata": {},
     "output_type": "display_data"
    }
   ],
   "source": [
    "moda_membros <- dbGetQuery (con, \"SELECT day_of_week, COUNT(ride_id) AS total\t-- Membros tem preferencia: Quarta > Terca > Quinta > Segunda > Sexta > Sábado > Domingo\n",
    "FROM all_rides\n",
    "where member_casual = 'member'\n",
    "GROUP BY day_of_week\n",
    "ORDER BY total DESC;\")\n",
    "\n",
    "moda_membros"
   ]
  },
  {
   "cell_type": "code",
   "execution_count": 12,
   "metadata": {
    "vscode": {
     "languageId": "r"
    }
   },
   "outputs": [
    {
     "data": {
      "text/html": [
       "<table class=\"dataframe\">\n",
       "<caption>A data.frame: 7 × 2</caption>\n",
       "<thead>\n",
       "\t<tr><th scope=col>day_of_week</th><th scope=col>total</th></tr>\n",
       "\t<tr><th scope=col>&lt;chr&gt;</th><th scope=col>&lt;int64&gt;</th></tr>\n",
       "</thead>\n",
       "<tbody>\n",
       "\t<tr><td>Saturday </td><td>313317</td></tr>\n",
       "\t<tr><td>Sunday   </td><td>256403</td></tr>\n",
       "\t<tr><td>Friday   </td><td>225240</td></tr>\n",
       "\t<tr><td>Wednesday</td><td>181229</td></tr>\n",
       "\t<tr><td>Thursday </td><td>177652</td></tr>\n",
       "\t<tr><td>Monday   </td><td>176542</td></tr>\n",
       "\t<tr><td>Tuesday  </td><td>156589</td></tr>\n",
       "</tbody>\n",
       "</table>\n"
      ],
      "text/latex": [
       "A data.frame: 7 × 2\n",
       "\\begin{tabular}{ll}\n",
       " day\\_of\\_week & total\\\\\n",
       " <chr> & <int64>\\\\\n",
       "\\hline\n",
       "\t Saturday  & 313317\\\\\n",
       "\t Sunday    & 256403\\\\\n",
       "\t Friday    & 225240\\\\\n",
       "\t Wednesday & 181229\\\\\n",
       "\t Thursday  & 177652\\\\\n",
       "\t Monday    & 176542\\\\\n",
       "\t Tuesday   & 156589\\\\\n",
       "\\end{tabular}\n"
      ],
      "text/markdown": [
       "\n",
       "A data.frame: 7 × 2\n",
       "\n",
       "| day_of_week &lt;chr&gt; | total &lt;int64&gt; |\n",
       "|---|---|\n",
       "| Saturday  | 313317 |\n",
       "| Sunday    | 256403 |\n",
       "| Friday    | 225240 |\n",
       "| Wednesday | 181229 |\n",
       "| Thursday  | 177652 |\n",
       "| Monday    | 176542 |\n",
       "| Tuesday   | 156589 |\n",
       "\n"
      ],
      "text/plain": [
       "  day_of_week total \n",
       "1 Saturday    313317\n",
       "2 Sunday      256403\n",
       "3 Friday      225240\n",
       "4 Wednesday   181229\n",
       "5 Thursday    177652\n",
       "6 Monday      176542\n",
       "7 Tuesday     156589"
      ]
     },
     "metadata": {},
     "output_type": "display_data"
    }
   ],
   "source": [
    "moda_casuais <- dbGetQuery (con, \"SELECT day_of_week, COUNT(ride_id) AS total    -- Casuais tem preferencia: Sábado > Domingo > Sexta > Quarta > Quinta > Segunda > Terca\n",
    "FROM all_rides\n",
    "where member_casual = 'casual'\n",
    "GROUP BY day_of_week\n",
    "ORDER BY total DESC;\")\n",
    "\n",
    "moda_casuais"
   ]
  },
  {
   "cell_type": "markdown",
   "metadata": {},
   "source": [
    "---\n",
    "#Horários de preferência para cada tipo de usuário:"
   ]
  },
  {
   "cell_type": "code",
   "execution_count": 13,
   "metadata": {
    "vscode": {
     "languageId": "r"
    }
   },
   "outputs": [
    {
     "data": {
      "text/html": [
       "<table class=\"dataframe\">\n",
       "<caption>A data.frame: 24 × 2</caption>\n",
       "<thead>\n",
       "\t<tr><th scope=col>hour_of_day</th><th scope=col>ride_count</th></tr>\n",
       "\t<tr><th scope=col>&lt;dbl&gt;</th><th scope=col>&lt;int64&gt;</th></tr>\n",
       "</thead>\n",
       "<tbody>\n",
       "\t<tr><td>17</td><td>142885</td></tr>\n",
       "\t<tr><td>16</td><td>134801</td></tr>\n",
       "\t<tr><td>15</td><td>119105</td></tr>\n",
       "\t<tr><td>18</td><td>118567</td></tr>\n",
       "\t<tr><td>14</td><td>108848</td></tr>\n",
       "\t<tr><td>13</td><td>104895</td></tr>\n",
       "\t<tr><td>12</td><td>101174</td></tr>\n",
       "\t<tr><td>11</td><td> 86921</td></tr>\n",
       "\t<tr><td>19</td><td> 85114</td></tr>\n",
       "\t<tr><td>10</td><td> 68030</td></tr>\n",
       "\t<tr><td>20</td><td> 61457</td></tr>\n",
       "\t<tr><td> 9</td><td> 53910</td></tr>\n",
       "\t<tr><td> 8</td><td> 53325</td></tr>\n",
       "\t<tr><td>21</td><td> 49550</td></tr>\n",
       "\t<tr><td>22</td><td> 43542</td></tr>\n",
       "\t<tr><td> 7</td><td> 38017</td></tr>\n",
       "\t<tr><td>23</td><td> 30121</td></tr>\n",
       "\t<tr><td> 0</td><td> 21919</td></tr>\n",
       "\t<tr><td> 6</td><td> 19797</td></tr>\n",
       "\t<tr><td> 1</td><td> 14609</td></tr>\n",
       "\t<tr><td> 2</td><td>  8604</td></tr>\n",
       "\t<tr><td> 5</td><td>  7951</td></tr>\n",
       "\t<tr><td> 3</td><td>  4697</td></tr>\n",
       "\t<tr><td> 4</td><td>  3747</td></tr>\n",
       "</tbody>\n",
       "</table>\n"
      ],
      "text/latex": [
       "A data.frame: 24 × 2\n",
       "\\begin{tabular}{ll}\n",
       " hour\\_of\\_day & ride\\_count\\\\\n",
       " <dbl> & <int64>\\\\\n",
       "\\hline\n",
       "\t 17 & 142885\\\\\n",
       "\t 16 & 134801\\\\\n",
       "\t 15 & 119105\\\\\n",
       "\t 18 & 118567\\\\\n",
       "\t 14 & 108848\\\\\n",
       "\t 13 & 104895\\\\\n",
       "\t 12 & 101174\\\\\n",
       "\t 11 &  86921\\\\\n",
       "\t 19 &  85114\\\\\n",
       "\t 10 &  68030\\\\\n",
       "\t 20 &  61457\\\\\n",
       "\t  9 &  53910\\\\\n",
       "\t  8 &  53325\\\\\n",
       "\t 21 &  49550\\\\\n",
       "\t 22 &  43542\\\\\n",
       "\t  7 &  38017\\\\\n",
       "\t 23 &  30121\\\\\n",
       "\t  0 &  21919\\\\\n",
       "\t  6 &  19797\\\\\n",
       "\t  1 &  14609\\\\\n",
       "\t  2 &   8604\\\\\n",
       "\t  5 &   7951\\\\\n",
       "\t  3 &   4697\\\\\n",
       "\t  4 &   3747\\\\\n",
       "\\end{tabular}\n"
      ],
      "text/markdown": [
       "\n",
       "A data.frame: 24 × 2\n",
       "\n",
       "| hour_of_day &lt;dbl&gt; | ride_count &lt;int64&gt; |\n",
       "|---|---|\n",
       "| 17 | 142885 |\n",
       "| 16 | 134801 |\n",
       "| 15 | 119105 |\n",
       "| 18 | 118567 |\n",
       "| 14 | 108848 |\n",
       "| 13 | 104895 |\n",
       "| 12 | 101174 |\n",
       "| 11 |  86921 |\n",
       "| 19 |  85114 |\n",
       "| 10 |  68030 |\n",
       "| 20 |  61457 |\n",
       "|  9 |  53910 |\n",
       "|  8 |  53325 |\n",
       "| 21 |  49550 |\n",
       "| 22 |  43542 |\n",
       "|  7 |  38017 |\n",
       "| 23 |  30121 |\n",
       "|  0 |  21919 |\n",
       "|  6 |  19797 |\n",
       "|  1 |  14609 |\n",
       "|  2 |   8604 |\n",
       "|  5 |   7951 |\n",
       "|  3 |   4697 |\n",
       "|  4 |   3747 |\n",
       "\n"
      ],
      "text/plain": [
       "   hour_of_day ride_count\n",
       "1  17          142885    \n",
       "2  16          134801    \n",
       "3  15          119105    \n",
       "4  18          118567    \n",
       "5  14          108848    \n",
       "6  13          104895    \n",
       "7  12          101174    \n",
       "8  11           86921    \n",
       "9  19           85114    \n",
       "10 10           68030    \n",
       "11 20           61457    \n",
       "12  9           53910    \n",
       "13  8           53325    \n",
       "14 21           49550    \n",
       "15 22           43542    \n",
       "16  7           38017    \n",
       "17 23           30121    \n",
       "18  0           21919    \n",
       "19  6           19797    \n",
       "20  1           14609    \n",
       "21  2            8604    \n",
       "22  5            7951    \n",
       "23  3            4697    \n",
       "24  4            3747    "
      ]
     },
     "metadata": {},
     "output_type": "display_data"
    }
   ],
   "source": [
    "horario_casuais <- dbGetQuery (con, \"SELECT \n",
    "  EXTRACT(HOUR FROM started_at) AS hour_of_day,\t\t\t-- Hora do dia: 17 > 16 > 15 > 18 > 14 > 13 > 12 > 11 > 19 > 10\n",
    "  COUNT(*) AS ride_count\n",
    "FROM all_rides\n",
    "WHERE member_casual = 'casual' and ride_length <= interval '04:00:00'\n",
    "GROUP BY hour_of_day\n",
    "ORDER BY ride_count desc;\")\n",
    "\n",
    "horario_casuais"
   ]
  },
  {
   "cell_type": "code",
   "execution_count": 14,
   "metadata": {
    "vscode": {
     "languageId": "r"
    }
   },
   "outputs": [
    {
     "data": {
      "text/html": [
       "<table class=\"dataframe\">\n",
       "<caption>A data.frame: 24 × 2</caption>\n",
       "<thead>\n",
       "\t<tr><th scope=col>hour_of_day</th><th scope=col>ride_count</th></tr>\n",
       "\t<tr><th scope=col>&lt;dbl&gt;</th><th scope=col>&lt;int64&gt;</th></tr>\n",
       "</thead>\n",
       "<tbody>\n",
       "\t<tr><td>17</td><td>280115</td></tr>\n",
       "\t<tr><td>16</td><td>244107</td></tr>\n",
       "\t<tr><td>18</td><td>210741</td></tr>\n",
       "\t<tr><td> 8</td><td>187074</td></tr>\n",
       "\t<tr><td>15</td><td>173919</td></tr>\n",
       "\t<tr><td> 7</td><td>151338</td></tr>\n",
       "\t<tr><td>19</td><td>146235</td></tr>\n",
       "\t<tr><td>12</td><td>141355</td></tr>\n",
       "\t<tr><td>14</td><td>140972</td></tr>\n",
       "\t<tr><td>13</td><td>140565</td></tr>\n",
       "\t<tr><td>11</td><td>124483</td></tr>\n",
       "\t<tr><td> 9</td><td>122966</td></tr>\n",
       "\t<tr><td>10</td><td>107299</td></tr>\n",
       "\t<tr><td>20</td><td>100424</td></tr>\n",
       "\t<tr><td> 6</td><td> 77076</td></tr>\n",
       "\t<tr><td>21</td><td> 74997</td></tr>\n",
       "\t<tr><td>22</td><td> 52516</td></tr>\n",
       "\t<tr><td>23</td><td> 31766</td></tr>\n",
       "\t<tr><td> 5</td><td> 24828</td></tr>\n",
       "\t<tr><td> 0</td><td> 18927</td></tr>\n",
       "\t<tr><td> 1</td><td> 11132</td></tr>\n",
       "\t<tr><td> 2</td><td>  6006</td></tr>\n",
       "\t<tr><td> 4</td><td>  5136</td></tr>\n",
       "\t<tr><td> 3</td><td>  4127</td></tr>\n",
       "</tbody>\n",
       "</table>\n"
      ],
      "text/latex": [
       "A data.frame: 24 × 2\n",
       "\\begin{tabular}{ll}\n",
       " hour\\_of\\_day & ride\\_count\\\\\n",
       " <dbl> & <int64>\\\\\n",
       "\\hline\n",
       "\t 17 & 280115\\\\\n",
       "\t 16 & 244107\\\\\n",
       "\t 18 & 210741\\\\\n",
       "\t  8 & 187074\\\\\n",
       "\t 15 & 173919\\\\\n",
       "\t  7 & 151338\\\\\n",
       "\t 19 & 146235\\\\\n",
       "\t 12 & 141355\\\\\n",
       "\t 14 & 140972\\\\\n",
       "\t 13 & 140565\\\\\n",
       "\t 11 & 124483\\\\\n",
       "\t  9 & 122966\\\\\n",
       "\t 10 & 107299\\\\\n",
       "\t 20 & 100424\\\\\n",
       "\t  6 &  77076\\\\\n",
       "\t 21 &  74997\\\\\n",
       "\t 22 &  52516\\\\\n",
       "\t 23 &  31766\\\\\n",
       "\t  5 &  24828\\\\\n",
       "\t  0 &  18927\\\\\n",
       "\t  1 &  11132\\\\\n",
       "\t  2 &   6006\\\\\n",
       "\t  4 &   5136\\\\\n",
       "\t  3 &   4127\\\\\n",
       "\\end{tabular}\n"
      ],
      "text/markdown": [
       "\n",
       "A data.frame: 24 × 2\n",
       "\n",
       "| hour_of_day &lt;dbl&gt; | ride_count &lt;int64&gt; |\n",
       "|---|---|\n",
       "| 17 | 280115 |\n",
       "| 16 | 244107 |\n",
       "| 18 | 210741 |\n",
       "|  8 | 187074 |\n",
       "| 15 | 173919 |\n",
       "|  7 | 151338 |\n",
       "| 19 | 146235 |\n",
       "| 12 | 141355 |\n",
       "| 14 | 140972 |\n",
       "| 13 | 140565 |\n",
       "| 11 | 124483 |\n",
       "|  9 | 122966 |\n",
       "| 10 | 107299 |\n",
       "| 20 | 100424 |\n",
       "|  6 |  77076 |\n",
       "| 21 |  74997 |\n",
       "| 22 |  52516 |\n",
       "| 23 |  31766 |\n",
       "|  5 |  24828 |\n",
       "|  0 |  18927 |\n",
       "|  1 |  11132 |\n",
       "|  2 |   6006 |\n",
       "|  4 |   5136 |\n",
       "|  3 |   4127 |\n",
       "\n"
      ],
      "text/plain": [
       "   hour_of_day ride_count\n",
       "1  17          280115    \n",
       "2  16          244107    \n",
       "3  18          210741    \n",
       "4   8          187074    \n",
       "5  15          173919    \n",
       "6   7          151338    \n",
       "7  19          146235    \n",
       "8  12          141355    \n",
       "9  14          140972    \n",
       "10 13          140565    \n",
       "11 11          124483    \n",
       "12  9          122966    \n",
       "13 10          107299    \n",
       "14 20          100424    \n",
       "15  6           77076    \n",
       "16 21           74997    \n",
       "17 22           52516    \n",
       "18 23           31766    \n",
       "19  5           24828    \n",
       "20  0           18927    \n",
       "21  1           11132    \n",
       "22  2            6006    \n",
       "23  4            5136    \n",
       "24  3            4127    "
      ]
     },
     "metadata": {},
     "output_type": "display_data"
    }
   ],
   "source": [
    "horario_membros <- dbGetQuery (con, \"SELECT \n",
    "  EXTRACT(HOUR FROM started_at) AS hour_of_day,\t\t\t-- Hora do dia: 17 > 16 > 18 > 8 > 15 > 7 > 19 > 12 > 14 > 13\n",
    "  COUNT(*) AS ride_count\n",
    "FROM all_rides\n",
    "WHERE member_casual = 'member' and ride_length <= interval '04:00:00'\n",
    "GROUP BY hour_of_day\n",
    "ORDER BY ride_count desc;\")\n",
    "\n",
    "horario_membros"
   ]
  },
  {
   "cell_type": "markdown",
   "metadata": {},
   "source": [
    "---\n",
    "# Gráfico para comparar as preferências nos dias da semana  "
   ]
  },
  {
   "cell_type": "code",
   "execution_count": 15,
   "metadata": {
    "vscode": {
     "languageId": "r"
    }
   },
   "outputs": [
    {
     "name": "stderr",
     "output_type": "stream",
     "text": [
      "Instalando pacote em 'C:/Users/JoTa/AppData/Local/R/win-library/4.4'\n",
      "(como 'lib' não foi especificado)\n",
      "\n"
     ]
    },
    {
     "name": "stdout",
     "output_type": "stream",
     "text": [
      "pacote 'ggplot2' desempacotado com sucesso e somas MD5 verificadas\n",
      "\n",
      "Os pacotes binários baixados estão em\n",
      "\tC:\\Users\\JoTa\\AppData\\Local\\Temp\\RtmpwJ3GpA\\downloaded_packages\n"
     ]
    },
    {
     "name": "stderr",
     "output_type": "stream",
     "text": [
      "Instalando pacote em 'C:/Users/JoTa/AppData/Local/R/win-library/4.4'\n",
      "(como 'lib' não foi especificado)\n",
      "\n"
     ]
    },
    {
     "name": "stdout",
     "output_type": "stream",
     "text": [
      "pacote 'dplyr' desempacotado com sucesso e somas MD5 verificadas\n"
     ]
    },
    {
     "name": "stderr",
     "output_type": "stream",
     "text": [
      "Warning message:\n",
      "\"não foi possível remover a instalação prévia do pacote 'dplyr'\"\n",
      "Warning message in file.copy(savedcopy, lib, recursive = TRUE):\n",
      "\"problem copying C:\\Users\\JoTa\\AppData\\Local\\R\\win-library\\4.4\\00LOCK\\dplyr\\libs\\x64\\dplyr.dll to C:\\Users\\JoTa\\AppData\\Local\\R\\win-library\\4.4\\dplyr\\libs\\x64\\dplyr.dll: Permission denied\"\n",
      "Warning message:\n",
      "\"'dplyr' restaurado\"\n"
     ]
    },
    {
     "name": "stdout",
     "output_type": "stream",
     "text": [
      "\n",
      "Os pacotes binários baixados estão em\n",
      "\tC:\\Users\\JoTa\\AppData\\Local\\Temp\\RtmpwJ3GpA\\downloaded_packages\n"
     ]
    }
   ],
   "source": [
    "install.packages(\"ggplot2\")\n",
    "install.packages(\"dplyr\")"
   ]
  },
  {
   "cell_type": "code",
   "execution_count": null,
   "metadata": {
    "vscode": {
     "languageId": "r"
    }
   },
   "outputs": [
    {
     "name": "stderr",
     "output_type": "stream",
     "text": [
      "Warning message:\n",
      "\"pacote 'ggplot2' foi compilado no R versão 4.4.3\"\n"
     ]
    },
    {
     "name": "stderr",
     "output_type": "stream",
     "text": [
      "Warning message:\n",
      "\"pacote 'dplyr' foi compilado no R versão 4.4.3\"\n",
      "\n",
      "Anexando pacote: 'dplyr'\n",
      "\n",
      "\n",
      "Os seguintes objetos são mascarados por 'package:stats':\n",
      "\n",
      "    filter, lag\n",
      "\n",
      "\n",
      "Os seguintes objetos são mascarados por 'package:base':\n",
      "\n",
      "    intersect, setdiff, setequal, union\n",
      "\n",
      "\n"
     ]
    },
    {
     "data": {
      "image/png": "[encoded data removed]",
      "text/plain": [
       "plot without title"
      ]
     },
     "metadata": {
      "image/png": {
       "height": 420,
       "width": 420
      }
     },
     "output_type": "display_data"
    }
   ],
   "source": [
    "library(ggplot2)\n",
    "library(dplyr)\n",
    "\n",
    "# Converte a coluna `day_of_week` para fator com ordem correta\n",
    "df$day_of_week <- factor(df$day_of_week,\n",
    "                         levels = c(\"Sunday\", \"Monday\", \"Tuesday\", \"Wednesday\", \"Thursday\", \"Friday\", \"Saturday\"))\n",
    "\n",
    "# GRÁFICO 1\n",
    "# Gráfico com dias ordenados e eixo Y formatado\n",
    "ggplot(df, aes(x = day_of_week, fill = member_casual)) +\n",
    "  geom_bar(position = \"dodge\") +\n",
    "  labs(title = \"Corridas por Dia da Semana\", x = \"Dia da Semana\", y = \"Quantidade de Corridas\") +\n",
    "  scale_y_continuous(labels = scales::comma) +  # Formata o eixo Y com números inteiros\n",
    "  theme_minimal()\n"
   ]
  },
  {
   "cell_type": "markdown",
   "metadata": {},
   "source": [
    "### Nota-se que Sábado e Domingo são os dias com maior quantidade de corridas para os Casuais.  \n",
    "### E o oposto acontece para os Membros. Sábados e domingos são os dias de menor frequência para esses usuários.  \n",
    "Isso nos indica que os membros têm uma maior preferência para os dias da semana, pois devem utilizar para ir ao trabalho ou para alguma atividade relacionada.  \n",
    "Já os Casuais, por ter uma frequência maior nos finais de semana, possivelmente, são para atividades de lazer."
   ]
  },
  {
   "cell_type": "markdown",
   "metadata": {},
   "source": [
    "---\n",
    "# Analisando a preferência nos tipos de bicicletas"
   ]
  },
  {
   "cell_type": "code",
   "execution_count": null,
   "metadata": {
    "vscode": {
     "languageId": "r"
    }
   },
   "outputs": [
    {
     "name": "stdout",
     "output_type": "stream",
     "text": [
      "\u001b[90m# A tibble: 6 × 4\u001b[39m\n",
      "\u001b[90m# Groups:   member_casual [2]\u001b[39m\n",
      "  member_casual rideable_type        qtd percent\n",
      "  \u001b[3m\u001b[90m<chr>\u001b[39m\u001b[23m         \u001b[3m\u001b[90m<chr>\u001b[39m\u001b[23m              \u001b[3m\u001b[90m<int>\u001b[39m\u001b[23m   \u001b[3m\u001b[90m<dbl>\u001b[39m\u001b[23m\n",
      "\u001b[90m1\u001b[39m casual        classic_bike      \u001b[4m9\u001b[24m\u001b[4m3\u001b[24m\u001b[4m4\u001b[24m038   62.8 \n",
      "\u001b[90m2\u001b[39m casual        electric_bike     \u001b[4m5\u001b[24m\u001b[4m2\u001b[24m\u001b[4m7\u001b[24m661   35.5 \n",
      "\u001b[90m3\u001b[39m casual        electric_scooter   \u001b[4m2\u001b[24m\u001b[4m5\u001b[24m273    1.7 \n",
      "\u001b[90m4\u001b[39m member        classic_bike     1\u001b[4m6\u001b[24m\u001b[4m3\u001b[24m\u001b[4m4\u001b[24m805   63.4 \n",
      "\u001b[90m5\u001b[39m member        electric_bike     \u001b[4m9\u001b[24m\u001b[4m2\u001b[24m\u001b[4m3\u001b[24m194   35.8 \n",
      "\u001b[90m6\u001b[39m member        electric_scooter   \u001b[4m2\u001b[24m\u001b[4m1\u001b[24m673    0.84\n"
     ]
    }
   ],
   "source": [
    "# Agrupa, conta e calcula a porcentagem\n",
    "df_bike_percent <- df %>%\n",
    "  group_by(member_casual, rideable_type) %>%\n",
    "  summarise(qtd = n(), .groups = \"drop\") %>%\n",
    "  group_by(member_casual) %>%\n",
    "  mutate(percent = round(qtd / sum(qtd) * 100, 2))\n",
    "\n",
    "# Visualiza a tabela final\n",
    "print(df_bike_percent)\n"
   ]
  },
  {
   "cell_type": "code",
   "execution_count": null,
   "metadata": {
    "vscode": {
     "languageId": "r"
    }
   },
   "outputs": [
    {
     "data": {
      "image/png": "[encoded data removed]",
      "text/plain": [
       "plot without title"
      ]
     },
     "metadata": {
      "image/png": {
       "height": 420,
       "width": 420
      }
     },
     "output_type": "display_data"
    }
   ],
   "source": [
    "# GRÁFICO 2\n",
    "# Gráfico de barras empilhadas com porcentagem\n",
    "ggplot(df_bike_percent, aes(x = member_casual, y = percent, fill = rideable_type)) +\n",
    "  geom_bar(stat = \"identity\", position = \"fill\") +\n",
    "  scale_y_continuous(labels = scales::percent_format(scale = 1)) +\n",
    "  labs(\n",
    "    title = \"Distribuição percentual do tipo de bicicleta por tipo de usuário\",\n",
    "    x = \"Tipo de Usuário\",\n",
    "    y = \"Porcentagem\",\n",
    "    fill = \"Tipo de Bicicleta\"\n",
    "  ) +\n",
    "  theme_minimal()"
   ]
  },
  {
   "cell_type": "markdown",
   "metadata": {},
   "source": [
    "Notamos que não há nenhuma relacão entre o tipo de bicicleta preferido para cada tipo de usuário, pois as porcentagens são parecidas para ambos."
   ]
  },
  {
   "cell_type": "markdown",
   "metadata": {},
   "source": [
    "---\n",
    "# Visualizando por mês"
   ]
  },
  {
   "cell_type": "code",
   "execution_count": 19,
   "metadata": {
    "vscode": {
     "languageId": "r"
    }
   },
   "outputs": [
    {
     "name": "stderr",
     "output_type": "stream",
     "text": [
      "Instalando pacote em 'C:/Users/JoTa/AppData/Local/R/win-library/4.4'\n",
      "(como 'lib' não foi especificado)\n",
      "\n"
     ]
    },
    {
     "name": "stdout",
     "output_type": "stream",
     "text": [
      "pacote 'lubridate' desempacotado com sucesso e somas MD5 verificadas\n"
     ]
    },
    {
     "name": "stderr",
     "output_type": "stream",
     "text": [
      "Warning message:\n",
      "\"não foi possível remover a instalação prévia do pacote 'lubridate'\"\n",
      "Warning message in file.copy(savedcopy, lib, recursive = TRUE):\n",
      "\"problem copying C:\\Users\\JoTa\\AppData\\Local\\R\\win-library\\4.4\\00LOCK\\lubridate\\libs\\x64\\lubridate.dll to C:\\Users\\JoTa\\AppData\\Local\\R\\win-library\\4.4\\lubridate\\libs\\x64\\lubridate.dll: Permission denied\"\n",
      "Warning message:\n",
      "\"'lubridate' restaurado\"\n"
     ]
    },
    {
     "name": "stdout",
     "output_type": "stream",
     "text": [
      "\n",
      "Os pacotes binários baixados estão em\n",
      "\tC:\\Users\\JoTa\\AppData\\Local\\Temp\\RtmpwJ3GpA\\downloaded_packages\n"
     ]
    }
   ],
   "source": [
    "install.packages(\"lubridate\")"
   ]
  },
  {
   "cell_type": "code",
   "execution_count": 20,
   "metadata": {
    "vscode": {
     "languageId": "r"
    }
   },
   "outputs": [
    {
     "name": "stderr",
     "output_type": "stream",
     "text": [
      "Warning message:\n",
      "\"pacote 'lubridate' foi compilado no R versão 4.4.3\"\n"
     ]
    },
    {
     "name": "stderr",
     "output_type": "stream",
     "text": [
      "\n",
      "Anexando pacote: 'lubridate'\n",
      "\n",
      "\n",
      "Os seguintes objetos são mascarados por 'package:base':\n",
      "\n",
      "    date, intersect, setdiff, union\n",
      "\n",
      "\n"
     ]
    }
   ],
   "source": [
    "library(lubridate)\n",
    "\n",
    "# OBS: Como são dados dos Estados Unidos, as estacões são invertidas.\n",
    "df <- df %>%  # Adiciona a coluna de estacão no df.\n",
    "  mutate(month = month(started_at),\n",
    "         season = case_when(\n",
    "           month %in% c(12, 1, 2)  ~ \"Winter\",\n",
    "           month %in% c(3, 4, 5)   ~ \"Spring\",\n",
    "           month %in% c(6, 7, 8)   ~ \"Summer\",\n",
    "           month %in% c(9, 10, 11) ~ \"Fall\"\n",
    "         ))\n"
   ]
  },
  {
   "cell_type": "code",
   "execution_count": null,
   "metadata": {
    "vscode": {
     "languageId": "r"
    }
   },
   "outputs": [
    {
     "data": {
      "image/png": "[encoded data removed]",
      "text/plain": [
       "plot without title"
      ]
     },
     "metadata": {
      "image/png": {
       "height": 420,
       "width": 420
      }
     },
     "output_type": "display_data"
    }
   ],
   "source": [
    "# GRÁFICO 3\n",
    "# Ordena as estacões corretamente\n",
    "df$season <- factor(df$season, levels = c(\"Spring\", \"Summer\", \"Fall\", \"Winter\"))\n",
    "\n",
    "# Gráfico\n",
    "ggplot(df, aes(x = season, fill = member_casual)) +\n",
    "  geom_bar(position = \"dodge\") +        # Barra lado a lado\n",
    "  labs(title = \"Corridas por Estação do Ano\", x = \"Estação\", y = \"Quantidade de Corridas\") +\n",
    "  scale_y_continuous(labels = scales::comma) +      # Formata o eixo Y com números inteiros\n",
    "  theme_minimal()       # Tema minimalista"
   ]
  },
  {
   "cell_type": "markdown",
   "metadata": {},
   "source": [
    "---\n",
    "# Visualizando apenas os dados dos Casuais"
   ]
  },
  {
   "cell_type": "code",
   "execution_count": null,
   "metadata": {
    "vscode": {
     "languageId": "r"
    }
   },
   "outputs": [
    {
     "data": {
      "image/png": "[encoded data removed]",
      "text/plain": [
       "plot without title"
      ]
     },
     "metadata": {
      "image/png": {
       "height": 420,
       "width": 420
      }
     },
     "output_type": "display_data"
    }
   ],
   "source": [
    "# GRÁFICO 4\n",
    "# Gráfico para visualizar os locais de início mais populares para Casuais\n",
    "\n",
    "df %>%\n",
    "  filter(member_casual == \"casual\", !is.na(start_station_name)) %>%\n",
    "  count(start_station_name, sort = TRUE) %>%\n",
    "  slice_max(n, n = 20) %>%  # top 20 estações\n",
    "  ggplot(aes(x = reorder(start_station_name, n), y = n)) +\n",
    "  geom_col(fill = \"tomato\") +\n",
    "  coord_flip() +\n",
    "  labs(\n",
    "    title = \"Top 20 Estações de Início Usadas por Usuários Casuais\",\n",
    "    x = \"Estação de Início\",\n",
    "    y = \"Número de Corridas\"\n",
    "  ) +\n",
    "  theme_minimal()\n",
    "\n",
    "# Esses são possíveis locais/pontos para fazer campanhas de marketing."
   ]
  },
  {
   "cell_type": "code",
   "execution_count": null,
   "metadata": {
    "vscode": {
     "languageId": "r"
    }
   },
   "outputs": [
    {
     "name": "stderr",
     "output_type": "stream",
     "text": [
      "Warning message:\n",
      "\"\u001b[1m\u001b[22mThere was 1 warning in `mutate()`.\n",
      "\u001b[1m\u001b[22m\u001b[36mℹ\u001b[39m In argument: `tempo = hms(ride_length)`.\n",
      "Caused by warning in `.parse_hms()`:\n",
      "\u001b[33m!\u001b[39m Some strings failed to parse\"\n"
     ]
    }
   ],
   "source": [
    "# Aqui nós preparamos os dados com o tempo dos casuais.\n",
    "\n",
    "# Substituindo os valores de ride_length para o formato correto.\n",
    "\n",
    "df_casual <- df %>%\n",
    "  filter(member_casual == \"casual\") %>%\n",
    "  mutate(\n",
    "    tempo = hms(ride_length),\n",
    "    ride_length_minutes = hour(tempo) * 60 + minute(tempo) + second(tempo) / 60\n",
    "  )\n"
   ]
  },
  {
   "cell_type": "code",
   "execution_count": null,
   "metadata": {
    "vscode": {
     "languageId": "r"
    }
   },
   "outputs": [
    {
     "name": "stderr",
     "output_type": "stream",
     "text": [
      "Warning message:\n",
      "\"\u001b[1m\u001b[22mRemoved 2 rows containing missing values or values outside the scale range\n",
      "(`geom_bar()`).\"\n"
     ]
    },
    {
     "data": {
      "image/png": "[encoded data removed]",
      "text/plain": [
       "plot without title"
      ]
     },
     "metadata": {
      "image/png": {
       "height": 420,
       "width": 420
      }
     },
     "output_type": "display_data"
    }
   ],
   "source": [
    "# GRÁFICO 5\n",
    "# Histograma para visualizar a duração das corridas para usuários casuais\n",
    "# Limite de 60 min para melhor visualização\n",
    "\n",
    "ggplot(df_casual %>% filter(ride_length_minutes < 60), aes(x = ride_length_minutes)) +\n",
    "  geom_histogram(binwidth = 2, fill = \"tomato\", color = \"white\") +\n",
    "  labs(\n",
    "    title = \"Distribuição da Duração das Corridas (Usuários Casuais)\",\n",
    "    x = \"Duração da Corrida (min)\",\n",
    "    y = \"Frequência\"\n",
    "  ) +\n",
    "  scale_x_continuous(limits = c(0, 60), breaks = seq(0, 60, by = 5)) +\n",
    "  theme_minimal()\n",
    "\n",
    "# Maior frequência observada: entre 3 e 15 min...\n",
    "# Ainda assim, há algumas corridas que superam esse tempo.\n",
    "# Juntando todas, teríamos um público que poderia ser convertido em membros."
   ]
  },
  {
   "cell_type": "code",
   "execution_count": null,
   "metadata": {
    "vscode": {
     "languageId": "r"
    }
   },
   "outputs": [],
   "source": [
    "# A partir daqui, preparamos os datos para visualizar os Casuais em cada mês.\n",
    "\n",
    "# Criar uma nova coluna mes como formato Date\n",
    "df_casual_mensal <- df %>%\n",
    "  filter(member_casual == \"casual\") %>%\n",
    "  mutate(mes = floor_date(as.Date(started_at), unit = \"month\"))  # Apenas ano e mês"
   ]
  },
  {
   "cell_type": "code",
   "execution_count": null,
   "metadata": {
    "vscode": {
     "languageId": "r"
    }
   },
   "outputs": [],
   "source": [
    "# Agrupar por mês e contar corridas\n",
    "df_casual_mensal_resumo <- df_casual_mensal %>%\n",
    "  group_by(mes) %>%\n",
    "  summarise(total_corridas = n())"
   ]
  },
  {
   "cell_type": "code",
   "execution_count": null,
   "metadata": {
    "vscode": {
     "languageId": "r"
    }
   },
   "outputs": [
    {
     "data": {
      "image/png": "[encoded data removed]",
      "text/plain": [
       "plot without title"
      ]
     },
     "metadata": {
      "image/png": {
       "height": 420,
       "width": 420
      }
     },
     "output_type": "display_data"
    }
   ],
   "source": [
    "# GRÁFICO 6\n",
    "# Gráfico de barras com número total de corridas Casuais por mês.\n",
    "\n",
    "ggplot(df_casual_mensal_resumo, aes(x = mes, y = total_corridas)) +\n",
    "  geom_col(fill = \"tomato\") +\n",
    "  labs(\n",
    "    title = \"Total de Corridas Casuais por Mês\",\n",
    "    x = \"Meses\",\n",
    "    y = \"Número de Corridas\"\n",
    "  ) +\n",
    "  scale_x_date(date_labels = \"%b/%Y\", date_breaks = \"1 month\") +\n",
    "  theme_minimal() +\n",
    "  theme(axis.text.x = element_text(angle = 45, hjust = 1))\n",
    "\n",
    "# Lembrando que esses dados são referentes ao hemisfério norte.\n",
    "# Logo, os meses de inverno são os meses de dezembro, janeiro e fevereiro."
   ]
  },
  {
   "cell_type": "markdown",
   "metadata": {},
   "source": [
    "---\n",
    "# Criando um Boxplot de comparacão"
   ]
  },
  {
   "cell_type": "code",
   "execution_count": 34,
   "metadata": {
    "vscode": {
     "languageId": "r"
    }
   },
   "outputs": [
    {
     "name": "stderr",
     "output_type": "stream",
     "text": [
      "Warning message:\n",
      "\"\u001b[1m\u001b[22mThere was 1 warning in `mutate()`.\n",
      "\u001b[1m\u001b[22m\u001b[36mℹ\u001b[39m In argument: `tempo = hms(ride_length)`.\n",
      "Caused by warning in `.parse_hms()`:\n",
      "\u001b[33m!\u001b[39m Some strings failed to parse\"\n"
     ]
    },
    {
     "data": {
      "text/html": [
       "<table class=\"dataframe\">\n",
       "<caption>A data.frame: 6 × 19</caption>\n",
       "<thead>\n",
       "\t<tr><th></th><th scope=col>ride_id</th><th scope=col>rideable_type</th><th scope=col>started_at</th><th scope=col>ended_at</th><th scope=col>start_station_name</th><th scope=col>start_station_id</th><th scope=col>end_station_name</th><th scope=col>end_station_id</th><th scope=col>start_lat</th><th scope=col>start_lng</th><th scope=col>end_lat</th><th scope=col>end_lng</th><th scope=col>member_casual</th><th scope=col>ride_length</th><th scope=col>day_of_week</th><th scope=col>month</th><th scope=col>season</th><th scope=col>tempo</th><th scope=col>ride_length_minutes</th></tr>\n",
       "\t<tr><th></th><th scope=col>&lt;chr&gt;</th><th scope=col>&lt;chr&gt;</th><th scope=col>&lt;dttm&gt;</th><th scope=col>&lt;dttm&gt;</th><th scope=col>&lt;chr&gt;</th><th scope=col>&lt;chr&gt;</th><th scope=col>&lt;chr&gt;</th><th scope=col>&lt;chr&gt;</th><th scope=col>&lt;dbl&gt;</th><th scope=col>&lt;dbl&gt;</th><th scope=col>&lt;dbl&gt;</th><th scope=col>&lt;dbl&gt;</th><th scope=col>&lt;chr&gt;</th><th scope=col>&lt;chr&gt;</th><th scope=col>&lt;fct&gt;</th><th scope=col>&lt;dbl&gt;</th><th scope=col>&lt;fct&gt;</th><th scope=col>&lt;Period&gt;</th><th scope=col>&lt;dbl&gt;</th></tr>\n",
       "</thead>\n",
       "<tbody>\n",
       "\t<tr><th scope=row>1</th><td>322ED1A33EAD23C4</td><td>electric_bike</td><td>2024-06-23 10:49:43</td><td>2024-06-23 11:02:27</td><td><span style=white-space:pre-wrap>Wells St &amp; Elm St                  </span></td><td>KA1504000135</td><td>Southport Ave &amp; Clybourn Ave</td><td>TA1309000030</td><td>41.90326</td><td>-87.63486</td><td>41.92077</td><td>-87.66371</td><td>member</td><td>00:12:43.84 </td><td><span style=white-space:pre-wrap>Sunday   </span></td><td>6</td><td>Summer</td><td>12M 43.84S</td><td>12.73067</td></tr>\n",
       "\t<tr><th scope=row>2</th><td>CB358067A835C900</td><td>classic_bike </td><td>2024-06-12 16:20:44</td><td>2024-06-12 16:28:03</td><td><span style=white-space:pre-wrap>Dearborn St &amp; Monroe St            </span></td><td>TA1305000006</td><td><span style=white-space:pre-wrap>State St &amp; Kinzie St        </span></td><td><span style=white-space:pre-wrap>13050       </span></td><td>41.88132</td><td>-87.62952</td><td>41.88937</td><td>-87.62708</td><td>member</td><td>00:07:19.356</td><td>Wednesday</td><td>6</td><td>Summer</td><td>7M 19.356S</td><td> 7.32260</td></tr>\n",
       "\t<tr><th scope=row>3</th><td>9DEB17F6A13B2160</td><td>electric_bike</td><td>2024-06-20 17:56:00</td><td>2024-06-20 18:17:07</td><td><span style=white-space:pre-wrap>Wells St &amp; Elm St                  </span></td><td>KA1504000135</td><td>Racine Ave &amp; Washington Blvd</td><td><span style=white-space:pre-wrap>654         </span></td><td>41.90311</td><td>-87.63462</td><td>41.88307</td><td>-87.65695</td><td>casual</td><td>00:21:06.986</td><td>Thursday </td><td>6</td><td>Summer</td><td>21M 6.986S</td><td>21.11643</td></tr>\n",
       "\t<tr><th scope=row>4</th><td>8299693EA273A24F</td><td>classic_bike </td><td>2024-06-08 07:42:34</td><td>2024-06-08 08:02:21</td><td><span style=white-space:pre-wrap>Lakefront Trail &amp; Bryn Mawr Ave    </span></td><td><span style=white-space:pre-wrap>15576       </span></td><td><span style=white-space:pre-wrap>Clarendon Ave &amp; Gordon Ter  </span></td><td><span style=white-space:pre-wrap>13379       </span></td><td>41.98404</td><td>-87.65228</td><td>41.95787</td><td>-87.64951</td><td>casual</td><td>00:19:46.614</td><td>Saturday </td><td>6</td><td>Summer</td><td>19M 46.614S</td><td>19.77690</td></tr>\n",
       "\t<tr><th scope=row>5</th><td>4B8EB5D51DBC50EF</td><td>classic_bike </td><td>2024-06-13 15:36:43</td><td>2024-06-13 16:00:16</td><td><span style=white-space:pre-wrap>Dearborn St &amp; Monroe St            </span></td><td>TA1305000006</td><td>Southport Ave &amp; Clybourn Ave</td><td>TA1309000030</td><td>41.88132</td><td>-87.62952</td><td>41.92077</td><td>-87.66371</td><td>member</td><td>00:23:32.386</td><td>Thursday </td><td>6</td><td>Summer</td><td>23M 32.386S</td><td>23.53977</td></tr>\n",
       "\t<tr><th scope=row>6</th><td>20D82B8956DCA88B</td><td>electric_bike</td><td>2024-06-13 14:40:02</td><td>2024-06-13 15:08:33</td><td>Orleans St &amp; Merchandise Mart Plaza</td><td>TA1305000022</td><td><span style=white-space:pre-wrap>State St &amp; Kinzie St        </span></td><td><span style=white-space:pre-wrap>13050       </span></td><td>41.88781</td><td>-87.63697</td><td>41.88937</td><td>-87.62708</td><td>casual</td><td>00:28:31.031</td><td>Thursday </td><td>6</td><td>Summer</td><td>28M 31.031S</td><td>28.51718</td></tr>\n",
       "</tbody>\n",
       "</table>\n"
      ],
      "text/latex": [
       "A data.frame: 6 × 19\n",
       "\\begin{tabular}{r|lllllllllllllllllll}\n",
       "  & ride\\_id & rideable\\_type & started\\_at & ended\\_at & start\\_station\\_name & start\\_station\\_id & end\\_station\\_name & end\\_station\\_id & start\\_lat & start\\_lng & end\\_lat & end\\_lng & member\\_casual & ride\\_length & day\\_of\\_week & month & season & tempo & ride\\_length\\_minutes\\\\\n",
       "  & <chr> & <chr> & <dttm> & <dttm> & <chr> & <chr> & <chr> & <chr> & <dbl> & <dbl> & <dbl> & <dbl> & <chr> & <chr> & <fct> & <dbl> & <fct> & <Period> & <dbl>\\\\\n",
       "\\hline\n",
       "\t1 & 322ED1A33EAD23C4 & electric\\_bike & 2024-06-23 10:49:43 & 2024-06-23 11:02:27 & Wells St \\& Elm St                   & KA1504000135 & Southport Ave \\& Clybourn Ave & TA1309000030 & 41.90326 & -87.63486 & 41.92077 & -87.66371 & member & 00:12:43.84  & Sunday    & 6 & Summer & 12M 43.84S & 12.73067\\\\\n",
       "\t2 & CB358067A835C900 & classic\\_bike  & 2024-06-12 16:20:44 & 2024-06-12 16:28:03 & Dearborn St \\& Monroe St             & TA1305000006 & State St \\& Kinzie St         & 13050        & 41.88132 & -87.62952 & 41.88937 & -87.62708 & member & 00:07:19.356 & Wednesday & 6 & Summer & 7M 19.356S &  7.32260\\\\\n",
       "\t3 & 9DEB17F6A13B2160 & electric\\_bike & 2024-06-20 17:56:00 & 2024-06-20 18:17:07 & Wells St \\& Elm St                   & KA1504000135 & Racine Ave \\& Washington Blvd & 654          & 41.90311 & -87.63462 & 41.88307 & -87.65695 & casual & 00:21:06.986 & Thursday  & 6 & Summer & 21M 6.986S & 21.11643\\\\\n",
       "\t4 & 8299693EA273A24F & classic\\_bike  & 2024-06-08 07:42:34 & 2024-06-08 08:02:21 & Lakefront Trail \\& Bryn Mawr Ave     & 15576        & Clarendon Ave \\& Gordon Ter   & 13379        & 41.98404 & -87.65228 & 41.95787 & -87.64951 & casual & 00:19:46.614 & Saturday  & 6 & Summer & 19M 46.614S & 19.77690\\\\\n",
       "\t5 & 4B8EB5D51DBC50EF & classic\\_bike  & 2024-06-13 15:36:43 & 2024-06-13 16:00:16 & Dearborn St \\& Monroe St             & TA1305000006 & Southport Ave \\& Clybourn Ave & TA1309000030 & 41.88132 & -87.62952 & 41.92077 & -87.66371 & member & 00:23:32.386 & Thursday  & 6 & Summer & 23M 32.386S & 23.53977\\\\\n",
       "\t6 & 20D82B8956DCA88B & electric\\_bike & 2024-06-13 14:40:02 & 2024-06-13 15:08:33 & Orleans St \\& Merchandise Mart Plaza & TA1305000022 & State St \\& Kinzie St         & 13050        & 41.88781 & -87.63697 & 41.88937 & -87.62708 & casual & 00:28:31.031 & Thursday  & 6 & Summer & 28M 31.031S & 28.51718\\\\\n",
       "\\end{tabular}\n"
      ],
      "text/markdown": [
       "\n",
       "A data.frame: 6 × 19\n",
       "\n",
       "| <!--/--> | ride_id &lt;chr&gt; | rideable_type &lt;chr&gt; | started_at &lt;dttm&gt; | ended_at &lt;dttm&gt; | start_station_name &lt;chr&gt; | start_station_id &lt;chr&gt; | end_station_name &lt;chr&gt; | end_station_id &lt;chr&gt; | start_lat &lt;dbl&gt; | start_lng &lt;dbl&gt; | end_lat &lt;dbl&gt; | end_lng &lt;dbl&gt; | member_casual &lt;chr&gt; | ride_length &lt;chr&gt; | day_of_week &lt;fct&gt; | month &lt;dbl&gt; | season &lt;fct&gt; | tempo &lt;Period&gt; | ride_length_minutes &lt;dbl&gt; |\n",
       "|---|---|---|---|---|---|---|---|---|---|---|---|---|---|---|---|---|---|---|---|\n",
       "| 1 | 322ED1A33EAD23C4 | electric_bike | 2024-06-23 10:49:43 | 2024-06-23 11:02:27 | Wells St &amp; Elm St                   | KA1504000135 | Southport Ave &amp; Clybourn Ave | TA1309000030 | 41.90326 | -87.63486 | 41.92077 | -87.66371 | member | 00:12:43.84  | Sunday    | 6 | Summer | 12M 43.84S | 12.73067 |\n",
       "| 2 | CB358067A835C900 | classic_bike  | 2024-06-12 16:20:44 | 2024-06-12 16:28:03 | Dearborn St &amp; Monroe St             | TA1305000006 | State St &amp; Kinzie St         | 13050        | 41.88132 | -87.62952 | 41.88937 | -87.62708 | member | 00:07:19.356 | Wednesday | 6 | Summer | 7M 19.356S |  7.32260 |\n",
       "| 3 | 9DEB17F6A13B2160 | electric_bike | 2024-06-20 17:56:00 | 2024-06-20 18:17:07 | Wells St &amp; Elm St                   | KA1504000135 | Racine Ave &amp; Washington Blvd | 654          | 41.90311 | -87.63462 | 41.88307 | -87.65695 | casual | 00:21:06.986 | Thursday  | 6 | Summer | 21M 6.986S | 21.11643 |\n",
       "| 4 | 8299693EA273A24F | classic_bike  | 2024-06-08 07:42:34 | 2024-06-08 08:02:21 | Lakefront Trail &amp; Bryn Mawr Ave     | 15576        | Clarendon Ave &amp; Gordon Ter   | 13379        | 41.98404 | -87.65228 | 41.95787 | -87.64951 | casual | 00:19:46.614 | Saturday  | 6 | Summer | 19M 46.614S | 19.77690 |\n",
       "| 5 | 4B8EB5D51DBC50EF | classic_bike  | 2024-06-13 15:36:43 | 2024-06-13 16:00:16 | Dearborn St &amp; Monroe St             | TA1305000006 | Southport Ave &amp; Clybourn Ave | TA1309000030 | 41.88132 | -87.62952 | 41.92077 | -87.66371 | member | 00:23:32.386 | Thursday  | 6 | Summer | 23M 32.386S | 23.53977 |\n",
       "| 6 | 20D82B8956DCA88B | electric_bike | 2024-06-13 14:40:02 | 2024-06-13 15:08:33 | Orleans St &amp; Merchandise Mart Plaza | TA1305000022 | State St &amp; Kinzie St         | 13050        | 41.88781 | -87.63697 | 41.88937 | -87.62708 | casual | 00:28:31.031 | Thursday  | 6 | Summer | 28M 31.031S | 28.51718 |\n",
       "\n"
      ],
      "text/plain": [
       "  ride_id          rideable_type started_at          ended_at           \n",
       "1 322ED1A33EAD23C4 electric_bike 2024-06-23 10:49:43 2024-06-23 11:02:27\n",
       "2 CB358067A835C900 classic_bike  2024-06-12 16:20:44 2024-06-12 16:28:03\n",
       "3 9DEB17F6A13B2160 electric_bike 2024-06-20 17:56:00 2024-06-20 18:17:07\n",
       "4 8299693EA273A24F classic_bike  2024-06-08 07:42:34 2024-06-08 08:02:21\n",
       "5 4B8EB5D51DBC50EF classic_bike  2024-06-13 15:36:43 2024-06-13 16:00:16\n",
       "6 20D82B8956DCA88B electric_bike 2024-06-13 14:40:02 2024-06-13 15:08:33\n",
       "  start_station_name                  start_station_id\n",
       "1 Wells St & Elm St                   KA1504000135    \n",
       "2 Dearborn St & Monroe St             TA1305000006    \n",
       "3 Wells St & Elm St                   KA1504000135    \n",
       "4 Lakefront Trail & Bryn Mawr Ave     15576           \n",
       "5 Dearborn St & Monroe St             TA1305000006    \n",
       "6 Orleans St & Merchandise Mart Plaza TA1305000022    \n",
       "  end_station_name             end_station_id start_lat start_lng end_lat \n",
       "1 Southport Ave & Clybourn Ave TA1309000030   41.90326  -87.63486 41.92077\n",
       "2 State St & Kinzie St         13050          41.88132  -87.62952 41.88937\n",
       "3 Racine Ave & Washington Blvd 654            41.90311  -87.63462 41.88307\n",
       "4 Clarendon Ave & Gordon Ter   13379          41.98404  -87.65228 41.95787\n",
       "5 Southport Ave & Clybourn Ave TA1309000030   41.88132  -87.62952 41.92077\n",
       "6 State St & Kinzie St         13050          41.88781  -87.63697 41.88937\n",
       "  end_lng   member_casual ride_length  day_of_week month season tempo      \n",
       "1 -87.66371 member        00:12:43.84  Sunday      6     Summer 12M 43.84S \n",
       "2 -87.62708 member        00:07:19.356 Wednesday   6     Summer 7M 19.356S \n",
       "3 -87.65695 casual        00:21:06.986 Thursday    6     Summer 21M 6.986S \n",
       "4 -87.64951 casual        00:19:46.614 Saturday    6     Summer 19M 46.614S\n",
       "5 -87.66371 member        00:23:32.386 Thursday    6     Summer 23M 32.386S\n",
       "6 -87.62708 casual        00:28:31.031 Thursday    6     Summer 28M 31.031S\n",
       "  ride_length_minutes\n",
       "1 12.73067           \n",
       "2  7.32260           \n",
       "3 21.11643           \n",
       "4 19.77690           \n",
       "5 23.53977           \n",
       "6 28.51718           "
      ]
     },
     "metadata": {},
     "output_type": "display_data"
    }
   ],
   "source": [
    "# Criar um novo dataframe temporário só para o gráfico, com a coluna ride_length_minutes\n",
    "df_boxplot <- df %>%\n",
    "  mutate(\n",
    "    member_casual = tolower(trimws(member_casual)),  # Padroniza os nomes dos grupos\n",
    "    tempo = hms(ride_length),\n",
    "    ride_length_minutes = hour(tempo) * 60 + minute(tempo) + second(tempo) / 60\n",
    "  ) %>%\n",
    "  filter(ride_length_minutes > 1 & ride_length_minutes < 240)  # Corridas entre 1 min e 4 horas\n",
    "\n",
    "head(df_boxplot)"
   ]
  },
  {
   "cell_type": "code",
   "execution_count": null,
   "metadata": {
    "vscode": {
     "languageId": "r"
    }
   },
   "outputs": [
    {
     "data": {
      "image/png": "[encoded data removed]",
      "text/plain": [
       "plot without title"
      ]
     },
     "metadata": {
      "image/png": {
       "height": 420,
       "width": 420
      }
     },
     "output_type": "display_data"
    }
   ],
   "source": [
    "# GRÁFICO 7\n",
    "# Criar o boxplot\n",
    "ggplot(df_boxplot, aes(x = member_casual, y = ride_length_minutes, fill = member_casual)) +\n",
    "  geom_boxplot() +\n",
    "  labs(\n",
    "    title = \"Duração das Corridas por Tipo de Usuário\",\n",
    "    x = \"Tipo de Usuário\",\n",
    "    y = \"Duração da Corrida (min)\"\n",
    "  ) +\n",
    "  scale_fill_manual(values = c(\"casual\" = \"tomato\", \"member\" = \"steelblue\")) +\n",
    "  theme_minimal()\n"
   ]
  },
  {
   "cell_type": "markdown",
   "metadata": {},
   "source": [
    "O **Boxplot** nos mostra algumas informacões que foram vistas anteriormente.  \n",
    "- Usuários casuais realizam corridas significativamente mais longas do que membros anuais, com uma maior variação de tempo.  \n",
    "- Já os membros apresentam comportamentos mais regulares, com corridas geralmente mais curtas.  \n",
    "\n",
    "Esses dados indicam perfis de uso distintos: casuais tendem a usar para lazer, enquanto membros utilizam mais para locomoção no dia a dia.  \n",
    "\n",
    "### Analisando as características do Boxplot:  \n",
    "1. Mediana (linha na caixa):\n",
    "A mediana dos casuais está acima da mediana dos membros.\n",
    "Isso mostra que, em média, os usuários casuais fazem corridas mais longas do que os membros.\n",
    "  \n",
    "2. Altura da caixa (IQR – intervalo interquartil):\n",
    "A caixa dos casuais é mais alta: maior variação nas durações entre os 25% e 75% dos dados.\n",
    "  \n",
    "**Casual**: comportamento menos previsível e mais diverso nas durações.  \n",
    "**Member**: comportamento mais constante (as corridas tendem a durar aproximadamente o mesmo tempo).  \n",
    "  \n",
    "3. Bigodes (whiskers):  \n",
    "Ambos os grupos têm bigodes longos chegando a quase 240 min, mostrando que há corridas longas em ambos os casos.  \n",
    "Como filtramos até 240 min (4h), os valores extremos estão contidos.  \n",
    "  \n",
    "O que isso nos diz sobre os usuários?  \n",
    "\n",
    "**Casuais**:  \n",
    "- Usam o sistema com menos frequência, mas fazem corridas mais longas.  \n",
    "- Pode estar associado a uso turístico, lazer ou passeios mais longos.  \n",
    "  \n",
    "**Membros**:  \n",
    "- Usam com mais frequência, mas com corridas mais curtas e consistentes.  \n",
    "- Possivelmente para deslocamentos diários, como trabalho ou estudo.  \n",
    "\n",
    "---"
   ]
  },
  {
   "cell_type": "markdown",
   "metadata": {},
   "source": [
    "# <span style=\"color:purple\">**SHARE – Insights obtidos**</span>\n",
    "### Voltando para as perguntas dos stakeholders:  \n",
    "1) **Como os Membros Anuais e os Casuais se diferenciam?**  \n",
    "2) **Por que um usuário Casual compraria o plano Anual?**  \n",
    "3) **Como influenciar usuários Casuais a se tornarem Membros pelas Mídias Digitais?**  \n",
    "\n",
    "---\n",
    "  \n",
    "## Respondendo a questão 1:     \n",
    "\n",
    "1) **Como os Membros Anuais e os Casuais se diferenciam?**  \n",
    "  \n",
    "  \n",
    "### Critério---------------------Membros----------------------------------------Casuais  \n",
    "**Horário de uso**--------------------------Maior uso em horário comercial (08h–18h)-----------------------------Uso mais espalhado ao longo do dia  \n",
    "**Dias da semana**--------------------------Segunda a sexta-feira---------------------------------------------------Finais de semana (sábado e domingo)  \n",
    "**Duração da corrida**----------------------Corridas mais curtas e objetivas----------------------------------------Corridas mais longas e recreativas  \n",
    "**Frequência de uso**-----------------------Uso recorrente-----------------------------------------------------------Uso esporádico, maior em datas específicas  \n",
    "\n",
    "OBS: *Tabela criada baseando-se nas informacões obtidas nos gráficos 1,2,3 e 7(boxplot) e nas consultas SQL anteriores aos gráficos.*  \n",
    "  \n",
    "---\n",
    "  \n",
    "## Respondendo a questão 2:  \n",
    "  \n",
    "2) **Por que um usuário Casual compraria o plano Anual?**  \n",
    "  \n",
    "  \n",
    "A maioria das corridas casuais ocorre nos fins de semana, o que sugere que campanhas promocionais voltadas ao lazer (passeios, turismo urbano) teriam apelo.  \n",
    "OBS: Como não há valores $ e nem identificadores para os usuários na base de dados, algumas ideias ficam mais difíceis de serem implementadas.  \n",
    "  \n",
    "### Possíveis motivos para ser Membro:  \n",
    "**Economia**:  \n",
    "- Se o usuário casual usa com frequência moderada (mais de 2x na semana), ele poderia economizar com a assinatura anual (Member).  \n",
    "- Se o usuário utiliza em corridas mais longas, como foi mostrado nos Gráficos 5 e 7, ele poderia economizar sendo 'Member'.  \n",
    "  \n",
    "**Praticidade**:  \n",
    "- Evitaria a necessidade de selecionar uma forma de pagamento e de ter que inserir os dados todas vezes.  \n",
    "  \n",
    "**Benefícios adicionais (poderia obter vantagens)**:  \n",
    "- Prioridade em corridas ou estações exclusivas (estacões mais utilizadas , como as que foram vistas no Gráfico 4)  \n",
    "- Descontos em eventos parceiros  \n",
    "- Recompensas por uso recorrente (cashback ou algum sistema de pontuacão)  \n",
    "\n",
    "**Estímulo por comportamento**:  \n",
    "- \"Você utilizou o Cyclistic por X minutos. Você teria economizado $Y com nosso plano anual.\"\n",
    "   \n",
    "---\n",
    "## Respondendo a questão 3:  \n",
    "  \n",
    "3) **Como influenciar os usuários casuais a se tornarem membros com Mídias Digitais?**  \n",
    "  \n",
    "  \n",
    "**Criar campanhas e Estratégias baseadas em dados**:  \n",
    "- \"Você usou X vezes este mês — que tal economizar com o plano anual?\"  \n",
    "- Anúncios personalizados com base nos locais mais usados pelo usuário casual (gráfico 4).  \n",
    "  \n",
    "**Conteúdo segmentado**:  \n",
    "  \n",
    "- Para quem usa de forma recreativa: \"Explore mais com acesso ilimitado.\"  \n",
    "- Para quem usa nos dias úteis: \"Transforme sua ida ao trabalho em algo mais prático e econômico.\"  \n",
    "  \n",
    "**Provas sociais e dados**:  \n",
    "  \n",
    "- Mostrar que mais de \"60% dos usuários economizam com o plano anual\".  \n",
    "- Usar histórias de usuários reais nas redes.  \n",
    "---"
   ]
  },
  {
   "cell_type": "markdown",
   "metadata": {},
   "source": [
    "# <span style=\"color:red\">**ACT – Conclusão e Recomendacões**</span>\n",
    "\n",
    "*Lembrando, é preciso produzir uma apresentacão com os itens a seguir:*  \n",
    "Uma declaração clara da tarefa de negócios (OBJETIVO)  \n",
    "Uma descrição de todas as fontes de dados utilizadas (DADOS)  \n",
    "Documentação da limpeza e da manipulação dos dados (CLEAN)  \n",
    "Um resumo da sua análise (RESUMO)  \n",
    "Visualizações de apoio e principais descobertas (VIZ)  \n",
    "Suas três principais recomendações com base na análise (ACT)  \n",
    "\n",
    "## Conclusão:  \n",
    "Usuários casuais e membros têm perfis e necessidades distintas.  \n",
    "Compreender essas diferenças permite ações mais inteligentes e personalizadas.  \n",
    "A Cyclistic pode converter muitos casuais em assinantes fiéis com a estratégia certa.  \n",
    "\n",
    "## Recomendacões Finais:  \n",
    "- Campanhas segmentadas para usuários casuais com perfil recreativo, especialmente nos finais de semana e feriados, usando redes sociais com geolocalização.  \n",
    "- Oferecer período de teste gratuito ou promocional, para que os usuários experimentem os benefícios do plano anual de forma prática.  \n",
    "- Destacar economia e conveniência do plano anual, usando dados personalizados (tempo de uso, frequência, locais mais visitados) para mostrar o quanto o usuário poderia economizar ao virar membro.  \n",
    "  \n",
    "### Apresentacão realizada através do arquivo em PowerPoint.\n",
    "---"
   ]
  },
  {
   "cell_type": "markdown",
   "metadata": {},
   "source": []
  }
 ],
 "metadata": {
  "kernelspec": {
   "display_name": "R",
   "language": "R",
   "name": "ir"
  },
  "language_info": {
   "codemirror_mode": "r",
   "file_extension": ".r",
   "mimetype": "text/x-r-source",
   "name": "R",
   "pygments_lexer": "r",
   "version": "4.4.1"
  }
 },
 "nbformat": 4,
 "nbformat_minor": 2
}
